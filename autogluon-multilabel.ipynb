{
 "cells": [
  {
   "cell_type": "code",
   "execution_count": 1,
   "id": "44205a22",
   "metadata": {
    "_cell_guid": "b1076dfc-b9ad-4769-8c92-a6c4dae69d19",
    "_uuid": "8f2839f25d086af736a60e9eeb907d3b93b6e0e5",
    "execution": {
     "iopub.execute_input": "2023-07-01T17:23:20.959247Z",
     "iopub.status.busy": "2023-07-01T17:23:20.958569Z",
     "iopub.status.idle": "2023-07-01T17:23:20.975289Z",
     "shell.execute_reply": "2023-07-01T17:23:20.974616Z"
    },
    "papermill": {
     "duration": 0.027886,
     "end_time": "2023-07-01T17:23:20.977020",
     "exception": false,
     "start_time": "2023-07-01T17:23:20.949134",
     "status": "completed"
    },
    "tags": []
   },
   "outputs": [
    {
     "name": "stdout",
     "output_type": "stream",
     "text": [
      "done\n"
     ]
    }
   ],
   "source": [
    "import numpy as np # linear algebra\n",
    "import pandas as pd # data processing, CSV file I/O (e.g. pd.read_csv)\n",
    "\n",
    "import os\n",
    "for dirname, _, filenames in os.walk('/kaggle/input'):\n",
    "    for filename in filenames:\n",
    "        pass\n",
    "print(\"done\")"
   ]
  },
  {
   "cell_type": "code",
   "execution_count": 2,
   "id": "b1f3013f",
   "metadata": {
    "execution": {
     "iopub.execute_input": "2023-07-01T17:23:20.990533Z",
     "iopub.status.busy": "2023-07-01T17:23:20.990167Z",
     "iopub.status.idle": "2023-07-01T17:23:20.994331Z",
     "shell.execute_reply": "2023-07-01T17:23:20.993260Z"
    },
    "papermill": {
     "duration": 0.013487,
     "end_time": "2023-07-01T17:23:20.996597",
     "exception": false,
     "start_time": "2023-07-01T17:23:20.983110",
     "status": "completed"
    },
    "tags": []
   },
   "outputs": [],
   "source": [
    "# !pip install autogluon"
   ]
  },
  {
   "cell_type": "code",
   "execution_count": 3,
   "id": "a51a5765",
   "metadata": {
    "execution": {
     "iopub.execute_input": "2023-07-01T17:23:21.010573Z",
     "iopub.status.busy": "2023-07-01T17:23:21.010228Z",
     "iopub.status.idle": "2023-07-01T17:25:32.838919Z",
     "shell.execute_reply": "2023-07-01T17:25:32.837051Z"
    },
    "papermill": {
     "duration": 131.839103,
     "end_time": "2023-07-01T17:25:32.842045",
     "exception": false,
     "start_time": "2023-07-01T17:23:21.002942",
     "status": "completed"
    },
    "tags": []
   },
   "outputs": [
    {
     "name": "stdout",
     "output_type": "stream",
     "text": [
      "Collecting autogluon.tabular[all,tabpfn]\r\n",
      "  Downloading autogluon.tabular-0.8.2-py3-none-any.whl (285 kB)\r\n",
      "\u001b[2K     \u001b[90m━━━━━━━━━━━━━━━━━━━━━━━━━━━━━━━━━━━━━━\u001b[0m \u001b[32m285.7/285.7 kB\u001b[0m \u001b[31m11.2 MB/s\u001b[0m eta \u001b[36m0:00:00\u001b[0m\r\n",
      "\u001b[?25hRequirement already satisfied: numpy<1.27,>=1.21 in /opt/conda/lib/python3.10/site-packages (from autogluon.tabular[all,tabpfn]) (1.23.5)\r\n",
      "Requirement already satisfied: scipy<1.12,>=1.5.4 in /opt/conda/lib/python3.10/site-packages (from autogluon.tabular[all,tabpfn]) (1.10.1)\r\n",
      "Requirement already satisfied: pandas<1.6,>=1.4.1 in /opt/conda/lib/python3.10/site-packages (from autogluon.tabular[all,tabpfn]) (1.5.3)\r\n",
      "Requirement already satisfied: scikit-learn<1.3,>=1.0 in /opt/conda/lib/python3.10/site-packages (from autogluon.tabular[all,tabpfn]) (1.2.2)\r\n",
      "Requirement already satisfied: networkx<4,>=3.0 in /opt/conda/lib/python3.10/site-packages (from autogluon.tabular[all,tabpfn]) (3.1)\r\n",
      "Collecting autogluon.core==0.8.2 (from autogluon.tabular[all,tabpfn])\r\n",
      "  Downloading autogluon.core-0.8.2-py3-none-any.whl (224 kB)\r\n",
      "\u001b[2K     \u001b[90m━━━━━━━━━━━━━━━━━━━━━━━━━━━━━━━━━━━━━━\u001b[0m \u001b[32m224.0/224.0 kB\u001b[0m \u001b[31m17.9 MB/s\u001b[0m eta \u001b[36m0:00:00\u001b[0m\r\n",
      "\u001b[?25hCollecting autogluon.features==0.8.2 (from autogluon.tabular[all,tabpfn])\r\n",
      "  Downloading autogluon.features-0.8.2-py3-none-any.whl (62 kB)\r\n",
      "\u001b[2K     \u001b[90m━━━━━━━━━━━━━━━━━━━━━━━━━━━━━━━━━━━━━━━━\u001b[0m \u001b[32m62.1/62.1 kB\u001b[0m \u001b[31m4.9 MB/s\u001b[0m eta \u001b[36m0:00:00\u001b[0m\r\n",
      "\u001b[?25hRequirement already satisfied: lightgbm<3.4,>=3.3 in /opt/conda/lib/python3.10/site-packages (from autogluon.tabular[all,tabpfn]) (3.3.2)\r\n",
      "Requirement already satisfied: xgboost<1.8,>=1.6 in /opt/conda/lib/python3.10/site-packages (from autogluon.tabular[all,tabpfn]) (1.7.5)\r\n",
      "Collecting torch<1.14,>=1.9 (from autogluon.tabular[all,tabpfn])\r\n",
      "  Downloading torch-1.13.1-cp310-cp310-manylinux1_x86_64.whl (887.5 MB)\r\n",
      "\u001b[2K     \u001b[90m━━━━━━━━━━━━━━━━━━━━━━━━━━━━━━━━━━━━━━━\u001b[0m \u001b[32m887.5/887.5 MB\u001b[0m \u001b[31m1.2 MB/s\u001b[0m eta \u001b[36m0:00:00\u001b[0m\r\n",
      "\u001b[?25hRequirement already satisfied: fastai<2.8,>=2.3.1 in /opt/conda/lib/python3.10/site-packages (from autogluon.tabular[all,tabpfn]) (2.7.12)\r\n",
      "Requirement already satisfied: catboost<1.3,>=1.1 in /opt/conda/lib/python3.10/site-packages (from autogluon.tabular[all,tabpfn]) (1.2)\r\n",
      "Collecting tabpfn<0.2,>=0.1 (from autogluon.tabular[all,tabpfn])\r\n",
      "  Downloading tabpfn-0.1.9-py3-none-any.whl (156 kB)\r\n",
      "\u001b[2K     \u001b[90m━━━━━━━━━━━━━━━━━━━━━━━━━━━━━━━━━━━━━━\u001b[0m \u001b[32m156.6/156.6 kB\u001b[0m \u001b[31m13.7 MB/s\u001b[0m eta \u001b[36m0:00:00\u001b[0m\r\n",
      "\u001b[?25hRequirement already satisfied: tqdm<5,>=4.38 in /opt/conda/lib/python3.10/site-packages (from autogluon.core==0.8.2->autogluon.tabular[all,tabpfn]) (4.64.1)\r\n",
      "Requirement already satisfied: requests in /opt/conda/lib/python3.10/site-packages (from autogluon.core==0.8.2->autogluon.tabular[all,tabpfn]) (2.28.2)\r\n",
      "Requirement already satisfied: matplotlib in /opt/conda/lib/python3.10/site-packages (from autogluon.core==0.8.2->autogluon.tabular[all,tabpfn]) (3.6.3)\r\n",
      "Requirement already satisfied: boto3<2,>=1.10 in /opt/conda/lib/python3.10/site-packages (from autogluon.core==0.8.2->autogluon.tabular[all,tabpfn]) (1.26.100)\r\n",
      "Collecting autogluon.common==0.8.2 (from autogluon.core==0.8.2->autogluon.tabular[all,tabpfn])\r\n",
      "  Downloading autogluon.common-0.8.2-py3-none-any.whl (61 kB)\r\n",
      "\u001b[2K     \u001b[90m━━━━━━━━━━━━━━━━━━━━━━━━━━━━━━━━━━━━━━━━\u001b[0m \u001b[32m61.1/61.1 kB\u001b[0m \u001b[31m5.1 MB/s\u001b[0m eta \u001b[36m0:00:00\u001b[0m\r\n",
      "\u001b[?25hRequirement already satisfied: hyperopt<0.2.8,>=0.2.7 in /opt/conda/lib/python3.10/site-packages (from autogluon.core==0.8.2->autogluon.tabular[all,tabpfn]) (0.2.7)\r\n",
      "Collecting ray[default]<2.4,>=2.3 (from autogluon.core==0.8.2->autogluon.tabular[all,tabpfn])\r\n",
      "  Downloading ray-2.3.1-cp310-cp310-manylinux2014_x86_64.whl (58.5 MB)\r\n",
      "\u001b[2K     \u001b[90m━━━━━━━━━━━━━━━━━━━━━━━━━━━━━━━━━━━━━━━━\u001b[0m \u001b[32m58.5/58.5 MB\u001b[0m \u001b[31m21.9 MB/s\u001b[0m eta \u001b[36m0:00:00\u001b[0m\r\n",
      "\u001b[?25hRequirement already satisfied: pydantic<2.0,>=1.10.4 in /opt/conda/lib/python3.10/site-packages (from autogluon.core==0.8.2->autogluon.tabular[all,tabpfn]) (1.10.7)\r\n",
      "Collecting grpcio<=1.50.0,>=1.42.0 (from autogluon.core==0.8.2->autogluon.tabular[all,tabpfn])\r\n",
      "  Downloading grpcio-1.50.0-cp310-cp310-manylinux_2_17_x86_64.manylinux2014_x86_64.whl (4.7 MB)\r\n",
      "\u001b[2K     \u001b[90m━━━━━━━━━━━━━━━━━━━━━━━━━━━━━━━━━━━━━━━━\u001b[0m \u001b[32m4.7/4.7 MB\u001b[0m \u001b[31m50.5 MB/s\u001b[0m eta \u001b[36m0:00:00\u001b[0m\r\n",
      "\u001b[?25hRequirement already satisfied: psutil<6,>=5.7.3 in /opt/conda/lib/python3.10/site-packages (from autogluon.common==0.8.2->autogluon.core==0.8.2->autogluon.tabular[all,tabpfn]) (5.9.3)\r\n",
      "Requirement already satisfied: setuptools in /opt/conda/lib/python3.10/site-packages (from autogluon.common==0.8.2->autogluon.core==0.8.2->autogluon.tabular[all,tabpfn]) (59.8.0)\r\n",
      "Requirement already satisfied: graphviz in /opt/conda/lib/python3.10/site-packages (from catboost<1.3,>=1.1->autogluon.tabular[all,tabpfn]) (0.20.1)\r\n",
      "Requirement already satisfied: plotly in /opt/conda/lib/python3.10/site-packages (from catboost<1.3,>=1.1->autogluon.tabular[all,tabpfn]) (5.14.1)\r\n",
      "Requirement already satisfied: six in /opt/conda/lib/python3.10/site-packages (from catboost<1.3,>=1.1->autogluon.tabular[all,tabpfn]) (1.16.0)\r\n",
      "Requirement already satisfied: pip in /opt/conda/lib/python3.10/site-packages (from fastai<2.8,>=2.3.1->autogluon.tabular[all,tabpfn]) (23.1.2)\r\n",
      "Requirement already satisfied: packaging in /opt/conda/lib/python3.10/site-packages (from fastai<2.8,>=2.3.1->autogluon.tabular[all,tabpfn]) (21.3)\r\n",
      "Requirement already satisfied: fastdownload<2,>=0.0.5 in /opt/conda/lib/python3.10/site-packages (from fastai<2.8,>=2.3.1->autogluon.tabular[all,tabpfn]) (0.0.7)\r\n",
      "Requirement already satisfied: fastcore<1.6,>=1.5.29 in /opt/conda/lib/python3.10/site-packages (from fastai<2.8,>=2.3.1->autogluon.tabular[all,tabpfn]) (1.5.29)\r\n",
      "Requirement already satisfied: torchvision>=0.8.2 in /opt/conda/lib/python3.10/site-packages (from fastai<2.8,>=2.3.1->autogluon.tabular[all,tabpfn]) (0.15.1+cpu)\r\n",
      "Requirement already satisfied: pyyaml in /opt/conda/lib/python3.10/site-packages (from fastai<2.8,>=2.3.1->autogluon.tabular[all,tabpfn]) (5.4.1)\r\n",
      "Requirement already satisfied: fastprogress>=0.2.4 in /opt/conda/lib/python3.10/site-packages (from fastai<2.8,>=2.3.1->autogluon.tabular[all,tabpfn]) (1.0.3)\r\n",
      "Requirement already satisfied: pillow>6.0.0 in /opt/conda/lib/python3.10/site-packages (from fastai<2.8,>=2.3.1->autogluon.tabular[all,tabpfn]) (9.5.0)\r\n",
      "Requirement already satisfied: spacy<4 in /opt/conda/lib/python3.10/site-packages (from fastai<2.8,>=2.3.1->autogluon.tabular[all,tabpfn]) (3.5.3)\r\n",
      "Requirement already satisfied: wheel in /opt/conda/lib/python3.10/site-packages (from lightgbm<3.4,>=3.3->autogluon.tabular[all,tabpfn]) (0.40.0)\r\n",
      "Requirement already satisfied: python-dateutil>=2.8.1 in /opt/conda/lib/python3.10/site-packages (from pandas<1.6,>=1.4.1->autogluon.tabular[all,tabpfn]) (2.8.2)\r\n",
      "Requirement already satisfied: pytz>=2020.1 in /opt/conda/lib/python3.10/site-packages (from pandas<1.6,>=1.4.1->autogluon.tabular[all,tabpfn]) (2023.3)\r\n",
      "Requirement already satisfied: joblib>=1.1.1 in /opt/conda/lib/python3.10/site-packages (from scikit-learn<1.3,>=1.0->autogluon.tabular[all,tabpfn]) (1.2.0)\r\n",
      "Requirement already satisfied: threadpoolctl>=2.0.0 in /opt/conda/lib/python3.10/site-packages (from scikit-learn<1.3,>=1.0->autogluon.tabular[all,tabpfn]) (3.1.0)\r\n",
      "Requirement already satisfied: typing-extensions in /opt/conda/lib/python3.10/site-packages (from torch<1.14,>=1.9->autogluon.tabular[all,tabpfn]) (4.5.0)\r\n",
      "Collecting nvidia-cuda-runtime-cu11==11.7.99 (from torch<1.14,>=1.9->autogluon.tabular[all,tabpfn])\r\n",
      "  Downloading nvidia_cuda_runtime_cu11-11.7.99-py3-none-manylinux1_x86_64.whl (849 kB)\r\n",
      "\u001b[2K     \u001b[90m━━━━━━━━━━━━━━━━━━━━━━━━━━━━━━━━━━━━━━\u001b[0m \u001b[32m849.3/849.3 kB\u001b[0m \u001b[31m49.1 MB/s\u001b[0m eta \u001b[36m0:00:00\u001b[0m\r\n",
      "\u001b[?25hCollecting nvidia-cudnn-cu11==8.5.0.96 (from torch<1.14,>=1.9->autogluon.tabular[all,tabpfn])\r\n",
      "  Downloading nvidia_cudnn_cu11-8.5.0.96-2-py3-none-manylinux1_x86_64.whl (557.1 MB)\r\n",
      "\u001b[2K     \u001b[90m━━━━━━━━━━━━━━━━━━━━━━━━━━━━━━━━━━━━━━━\u001b[0m \u001b[32m557.1/557.1 MB\u001b[0m \u001b[31m2.6 MB/s\u001b[0m eta \u001b[36m0:00:00\u001b[0m\r\n",
      "\u001b[?25hCollecting nvidia-cublas-cu11==11.10.3.66 (from torch<1.14,>=1.9->autogluon.tabular[all,tabpfn])\r\n",
      "  Downloading nvidia_cublas_cu11-11.10.3.66-py3-none-manylinux1_x86_64.whl (317.1 MB)\r\n",
      "\u001b[2K     \u001b[90m━━━━━━━━━━━━━━━━━━━━━━━━━━━━━━━━━━━━━━━\u001b[0m \u001b[32m317.1/317.1 MB\u001b[0m \u001b[31m4.4 MB/s\u001b[0m eta \u001b[36m0:00:00\u001b[0m\r\n",
      "\u001b[?25hCollecting nvidia-cuda-nvrtc-cu11==11.7.99 (from torch<1.14,>=1.9->autogluon.tabular[all,tabpfn])\r\n",
      "  Downloading nvidia_cuda_nvrtc_cu11-11.7.99-2-py3-none-manylinux1_x86_64.whl (21.0 MB)\r\n",
      "\u001b[2K     \u001b[90m━━━━━━━━━━━━━━━━━━━━━━━━━━━━━━━━━━━━━━━━\u001b[0m \u001b[32m21.0/21.0 MB\u001b[0m \u001b[31m63.5 MB/s\u001b[0m eta \u001b[36m0:00:00\u001b[0m\r\n",
      "\u001b[?25hCollecting botocore<1.30.0,>=1.29.100 (from boto3<2,>=1.10->autogluon.core==0.8.2->autogluon.tabular[all,tabpfn])\r\n",
      "  Downloading botocore-1.29.165-py3-none-any.whl (11.0 MB)\r\n",
      "\u001b[2K     \u001b[90m━━━━━━━━━━━━━━━━━━━━━━━━━━━━━━━━━━━━━━━━\u001b[0m \u001b[32m11.0/11.0 MB\u001b[0m \u001b[31m63.0 MB/s\u001b[0m eta \u001b[36m0:00:00\u001b[0m\r\n",
      "\u001b[?25hRequirement already satisfied: jmespath<2.0.0,>=0.7.1 in /opt/conda/lib/python3.10/site-packages (from boto3<2,>=1.10->autogluon.core==0.8.2->autogluon.tabular[all,tabpfn]) (1.0.1)\r\n",
      "Requirement already satisfied: s3transfer<0.7.0,>=0.6.0 in /opt/conda/lib/python3.10/site-packages (from boto3<2,>=1.10->autogluon.core==0.8.2->autogluon.tabular[all,tabpfn]) (0.6.1)\r\n",
      "Requirement already satisfied: future in /opt/conda/lib/python3.10/site-packages (from hyperopt<0.2.8,>=0.2.7->autogluon.core==0.8.2->autogluon.tabular[all,tabpfn]) (0.18.3)\r\n",
      "Requirement already satisfied: cloudpickle in /opt/conda/lib/python3.10/site-packages (from hyperopt<0.2.8,>=0.2.7->autogluon.core==0.8.2->autogluon.tabular[all,tabpfn]) (2.2.1)\r\n",
      "Requirement already satisfied: py4j in /opt/conda/lib/python3.10/site-packages (from hyperopt<0.2.8,>=0.2.7->autogluon.core==0.8.2->autogluon.tabular[all,tabpfn]) (0.10.9.7)\r\n",
      "Requirement already satisfied: attrs in /opt/conda/lib/python3.10/site-packages (from ray[default]<2.4,>=2.3->autogluon.core==0.8.2->autogluon.tabular[all,tabpfn]) (23.1.0)\r\n",
      "Requirement already satisfied: click>=7.0 in /opt/conda/lib/python3.10/site-packages (from ray[default]<2.4,>=2.3->autogluon.core==0.8.2->autogluon.tabular[all,tabpfn]) (8.1.3)\r\n",
      "Requirement already satisfied: filelock in /opt/conda/lib/python3.10/site-packages (from ray[default]<2.4,>=2.3->autogluon.core==0.8.2->autogluon.tabular[all,tabpfn]) (3.12.0)\r\n",
      "Requirement already satisfied: jsonschema in /opt/conda/lib/python3.10/site-packages (from ray[default]<2.4,>=2.3->autogluon.core==0.8.2->autogluon.tabular[all,tabpfn]) (4.17.3)\r\n",
      "Requirement already satisfied: msgpack<2.0.0,>=1.0.0 in /opt/conda/lib/python3.10/site-packages (from ray[default]<2.4,>=2.3->autogluon.core==0.8.2->autogluon.tabular[all,tabpfn]) (1.0.5)\r\n",
      "Requirement already satisfied: protobuf!=3.19.5,>=3.15.3 in /opt/conda/lib/python3.10/site-packages (from ray[default]<2.4,>=2.3->autogluon.core==0.8.2->autogluon.tabular[all,tabpfn]) (3.20.3)\r\n",
      "Requirement already satisfied: aiosignal in /opt/conda/lib/python3.10/site-packages (from ray[default]<2.4,>=2.3->autogluon.core==0.8.2->autogluon.tabular[all,tabpfn]) (1.3.1)\r\n",
      "Requirement already satisfied: frozenlist in /opt/conda/lib/python3.10/site-packages (from ray[default]<2.4,>=2.3->autogluon.core==0.8.2->autogluon.tabular[all,tabpfn]) (1.3.3)\r\n",
      "Requirement already satisfied: virtualenv>=20.0.24 in /opt/conda/lib/python3.10/site-packages (from ray[default]<2.4,>=2.3->autogluon.core==0.8.2->autogluon.tabular[all,tabpfn]) (20.21.0)\r\n",
      "Requirement already satisfied: aiohttp>=3.7 in /opt/conda/lib/python3.10/site-packages (from ray[default]<2.4,>=2.3->autogluon.core==0.8.2->autogluon.tabular[all,tabpfn]) (3.8.4)\r\n",
      "Requirement already satisfied: aiohttp-cors in /opt/conda/lib/python3.10/site-packages (from ray[default]<2.4,>=2.3->autogluon.core==0.8.2->autogluon.tabular[all,tabpfn]) (0.7.0)\r\n",
      "Requirement already satisfied: colorful in /opt/conda/lib/python3.10/site-packages (from ray[default]<2.4,>=2.3->autogluon.core==0.8.2->autogluon.tabular[all,tabpfn]) (0.5.5)\r\n",
      "Requirement already satisfied: py-spy>=0.2.0 in /opt/conda/lib/python3.10/site-packages (from ray[default]<2.4,>=2.3->autogluon.core==0.8.2->autogluon.tabular[all,tabpfn]) (0.3.14)\r\n",
      "Requirement already satisfied: gpustat>=1.0.0 in /opt/conda/lib/python3.10/site-packages (from ray[default]<2.4,>=2.3->autogluon.core==0.8.2->autogluon.tabular[all,tabpfn]) (1.0.0)\r\n",
      "Requirement already satisfied: opencensus in /opt/conda/lib/python3.10/site-packages (from ray[default]<2.4,>=2.3->autogluon.core==0.8.2->autogluon.tabular[all,tabpfn]) (0.11.2)\r\n",
      "Requirement already satisfied: prometheus-client>=0.7.1 in /opt/conda/lib/python3.10/site-packages (from ray[default]<2.4,>=2.3->autogluon.core==0.8.2->autogluon.tabular[all,tabpfn]) (0.16.0)\r\n",
      "Requirement already satisfied: smart-open in /opt/conda/lib/python3.10/site-packages (from ray[default]<2.4,>=2.3->autogluon.core==0.8.2->autogluon.tabular[all,tabpfn]) (6.3.0)\r\n",
      "Requirement already satisfied: tabulate in /opt/conda/lib/python3.10/site-packages (from ray[default]<2.4,>=2.3->autogluon.core==0.8.2->autogluon.tabular[all,tabpfn]) (0.9.0)\r\n",
      "Requirement already satisfied: tensorboardX>=1.9 in /opt/conda/lib/python3.10/site-packages (from ray[default]<2.4,>=2.3->autogluon.core==0.8.2->autogluon.tabular[all,tabpfn]) (2.6)\r\n",
      "Requirement already satisfied: charset-normalizer<4,>=2 in /opt/conda/lib/python3.10/site-packages (from requests->autogluon.core==0.8.2->autogluon.tabular[all,tabpfn]) (2.1.1)\r\n",
      "Requirement already satisfied: idna<4,>=2.5 in /opt/conda/lib/python3.10/site-packages (from requests->autogluon.core==0.8.2->autogluon.tabular[all,tabpfn]) (3.4)\r\n",
      "Requirement already satisfied: urllib3<1.27,>=1.21.1 in /opt/conda/lib/python3.10/site-packages (from requests->autogluon.core==0.8.2->autogluon.tabular[all,tabpfn]) (1.26.15)\r\n",
      "Requirement already satisfied: certifi>=2017.4.17 in /opt/conda/lib/python3.10/site-packages (from requests->autogluon.core==0.8.2->autogluon.tabular[all,tabpfn]) (2023.5.7)\r\n",
      "Requirement already satisfied: spacy-legacy<3.1.0,>=3.0.11 in /opt/conda/lib/python3.10/site-packages (from spacy<4->fastai<2.8,>=2.3.1->autogluon.tabular[all,tabpfn]) (3.0.12)\r\n",
      "Requirement already satisfied: spacy-loggers<2.0.0,>=1.0.0 in /opt/conda/lib/python3.10/site-packages (from spacy<4->fastai<2.8,>=2.3.1->autogluon.tabular[all,tabpfn]) (1.0.4)\r\n",
      "Requirement already satisfied: murmurhash<1.1.0,>=0.28.0 in /opt/conda/lib/python3.10/site-packages (from spacy<4->fastai<2.8,>=2.3.1->autogluon.tabular[all,tabpfn]) (1.0.9)\r\n",
      "Requirement already satisfied: cymem<2.1.0,>=2.0.2 in /opt/conda/lib/python3.10/site-packages (from spacy<4->fastai<2.8,>=2.3.1->autogluon.tabular[all,tabpfn]) (2.0.7)\r\n",
      "Requirement already satisfied: preshed<3.1.0,>=3.0.2 in /opt/conda/lib/python3.10/site-packages (from spacy<4->fastai<2.8,>=2.3.1->autogluon.tabular[all,tabpfn]) (3.0.8)\r\n",
      "Requirement already satisfied: thinc<8.2.0,>=8.1.8 in /opt/conda/lib/python3.10/site-packages (from spacy<4->fastai<2.8,>=2.3.1->autogluon.tabular[all,tabpfn]) (8.1.10)\r\n",
      "Requirement already satisfied: wasabi<1.2.0,>=0.9.1 in /opt/conda/lib/python3.10/site-packages (from spacy<4->fastai<2.8,>=2.3.1->autogluon.tabular[all,tabpfn]) (1.1.2)\r\n",
      "Requirement already satisfied: srsly<3.0.0,>=2.4.3 in /opt/conda/lib/python3.10/site-packages (from spacy<4->fastai<2.8,>=2.3.1->autogluon.tabular[all,tabpfn]) (2.4.6)\r\n",
      "Requirement already satisfied: catalogue<2.1.0,>=2.0.6 in /opt/conda/lib/python3.10/site-packages (from spacy<4->fastai<2.8,>=2.3.1->autogluon.tabular[all,tabpfn]) (2.0.8)\r\n",
      "Requirement already satisfied: typer<0.8.0,>=0.3.0 in /opt/conda/lib/python3.10/site-packages (from spacy<4->fastai<2.8,>=2.3.1->autogluon.tabular[all,tabpfn]) (0.7.0)\r\n",
      "Requirement already satisfied: pathy>=0.10.0 in /opt/conda/lib/python3.10/site-packages (from spacy<4->fastai<2.8,>=2.3.1->autogluon.tabular[all,tabpfn]) (0.10.1)\r\n",
      "Requirement already satisfied: jinja2 in /opt/conda/lib/python3.10/site-packages (from spacy<4->fastai<2.8,>=2.3.1->autogluon.tabular[all,tabpfn]) (3.1.2)\r\n",
      "Requirement already satisfied: langcodes<4.0.0,>=3.2.0 in /opt/conda/lib/python3.10/site-packages (from spacy<4->fastai<2.8,>=2.3.1->autogluon.tabular[all,tabpfn]) (3.3.0)\r\n",
      "Requirement already satisfied: pyparsing!=3.0.5,>=2.0.2 in /opt/conda/lib/python3.10/site-packages (from packaging->fastai<2.8,>=2.3.1->autogluon.tabular[all,tabpfn]) (3.0.9)\r\n",
      "INFO: pip is looking at multiple versions of torchvision to determine which version is compatible with other requirements. This could take a while.\r\n",
      "Collecting torchvision>=0.8.2 (from fastai<2.8,>=2.3.1->autogluon.tabular[all,tabpfn])\r\n",
      "  Downloading torchvision-0.15.2-cp310-cp310-manylinux1_x86_64.whl (6.0 MB)\r\n",
      "\u001b[2K     \u001b[90m━━━━━━━━━━━━━━━━━━━━━━━━━━━━━━━━━━━━━━━━\u001b[0m \u001b[32m6.0/6.0 MB\u001b[0m \u001b[31m83.2 MB/s\u001b[0m eta \u001b[36m0:00:00\u001b[0m\r\n",
      "\u001b[?25h  Downloading torchvision-0.15.1-cp310-cp310-manylinux1_x86_64.whl (6.0 MB)\r\n",
      "\u001b[2K     \u001b[90m━━━━━━━━━━━━━━━━━━━━━━━━━━━━━━━━━━━━━━━━\u001b[0m \u001b[32m6.0/6.0 MB\u001b[0m \u001b[31m89.1 MB/s\u001b[0m eta \u001b[36m0:00:00\u001b[0m\r\n",
      "\u001b[?25h  Downloading torchvision-0.14.1-cp310-cp310-manylinux1_x86_64.whl (24.2 MB)\r\n",
      "\u001b[2K     \u001b[90m━━━━━━━━━━━━━━━━━━━━━━━━━━━━━━━━━━━━━━━━\u001b[0m \u001b[32m24.2/24.2 MB\u001b[0m \u001b[31m51.1 MB/s\u001b[0m eta \u001b[36m0:00:00\u001b[0m\r\n",
      "\u001b[?25hRequirement already satisfied: contourpy>=1.0.1 in /opt/conda/lib/python3.10/site-packages (from matplotlib->autogluon.core==0.8.2->autogluon.tabular[all,tabpfn]) (1.0.7)\r\n",
      "Requirement already satisfied: cycler>=0.10 in /opt/conda/lib/python3.10/site-packages (from matplotlib->autogluon.core==0.8.2->autogluon.tabular[all,tabpfn]) (0.11.0)\r\n",
      "Requirement already satisfied: fonttools>=4.22.0 in /opt/conda/lib/python3.10/site-packages (from matplotlib->autogluon.core==0.8.2->autogluon.tabular[all,tabpfn]) (4.39.3)\r\n",
      "Requirement already satisfied: kiwisolver>=1.0.1 in /opt/conda/lib/python3.10/site-packages (from matplotlib->autogluon.core==0.8.2->autogluon.tabular[all,tabpfn]) (1.4.4)\r\n",
      "Requirement already satisfied: tenacity>=6.2.0 in /opt/conda/lib/python3.10/site-packages (from plotly->catboost<1.3,>=1.1->autogluon.tabular[all,tabpfn]) (8.2.2)\r\n",
      "Requirement already satisfied: multidict<7.0,>=4.5 in /opt/conda/lib/python3.10/site-packages (from aiohttp>=3.7->ray[default]<2.4,>=2.3->autogluon.core==0.8.2->autogluon.tabular[all,tabpfn]) (6.0.4)\r\n",
      "Requirement already satisfied: async-timeout<5.0,>=4.0.0a3 in /opt/conda/lib/python3.10/site-packages (from aiohttp>=3.7->ray[default]<2.4,>=2.3->autogluon.core==0.8.2->autogluon.tabular[all,tabpfn]) (4.0.2)\r\n",
      "Requirement already satisfied: yarl<2.0,>=1.0 in /opt/conda/lib/python3.10/site-packages (from aiohttp>=3.7->ray[default]<2.4,>=2.3->autogluon.core==0.8.2->autogluon.tabular[all,tabpfn]) (1.9.1)\r\n",
      "Requirement already satisfied: nvidia-ml-py<=11.495.46,>=11.450.129 in /opt/conda/lib/python3.10/site-packages (from gpustat>=1.0.0->ray[default]<2.4,>=2.3->autogluon.core==0.8.2->autogluon.tabular[all,tabpfn]) (11.495.46)\r\n",
      "Requirement already satisfied: blessed>=1.17.1 in /opt/conda/lib/python3.10/site-packages (from gpustat>=1.0.0->ray[default]<2.4,>=2.3->autogluon.core==0.8.2->autogluon.tabular[all,tabpfn]) (1.20.0)\r\n",
      "Requirement already satisfied: blis<0.8.0,>=0.7.8 in /opt/conda/lib/python3.10/site-packages (from thinc<8.2.0,>=8.1.8->spacy<4->fastai<2.8,>=2.3.1->autogluon.tabular[all,tabpfn]) (0.7.9)\r\n",
      "Requirement already satisfied: confection<1.0.0,>=0.0.1 in /opt/conda/lib/python3.10/site-packages (from thinc<8.2.0,>=8.1.8->spacy<4->fastai<2.8,>=2.3.1->autogluon.tabular[all,tabpfn]) (0.0.4)\r\n",
      "Requirement already satisfied: distlib<1,>=0.3.6 in /opt/conda/lib/python3.10/site-packages (from virtualenv>=20.0.24->ray[default]<2.4,>=2.3->autogluon.core==0.8.2->autogluon.tabular[all,tabpfn]) (0.3.6)\r\n",
      "Requirement already satisfied: platformdirs<4,>=2.4 in /opt/conda/lib/python3.10/site-packages (from virtualenv>=20.0.24->ray[default]<2.4,>=2.3->autogluon.core==0.8.2->autogluon.tabular[all,tabpfn]) (3.5.0)\r\n",
      "Requirement already satisfied: MarkupSafe>=2.0 in /opt/conda/lib/python3.10/site-packages (from jinja2->spacy<4->fastai<2.8,>=2.3.1->autogluon.tabular[all,tabpfn]) (2.1.2)\r\n",
      "Requirement already satisfied: pyrsistent!=0.17.0,!=0.17.1,!=0.17.2,>=0.14.0 in /opt/conda/lib/python3.10/site-packages (from jsonschema->ray[default]<2.4,>=2.3->autogluon.core==0.8.2->autogluon.tabular[all,tabpfn]) (0.19.3)\r\n",
      "Requirement already satisfied: opencensus-context>=0.1.3 in /opt/conda/lib/python3.10/site-packages (from opencensus->ray[default]<2.4,>=2.3->autogluon.core==0.8.2->autogluon.tabular[all,tabpfn]) (0.1.3)\r\n",
      "Requirement already satisfied: google-api-core<3.0.0,>=1.0.0 in /opt/conda/lib/python3.10/site-packages (from opencensus->ray[default]<2.4,>=2.3->autogluon.core==0.8.2->autogluon.tabular[all,tabpfn]) (1.33.2)\r\n",
      "Requirement already satisfied: wcwidth>=0.1.4 in /opt/conda/lib/python3.10/site-packages (from blessed>=1.17.1->gpustat>=1.0.0->ray[default]<2.4,>=2.3->autogluon.core==0.8.2->autogluon.tabular[all,tabpfn]) (0.2.6)\r\n",
      "Requirement already satisfied: googleapis-common-protos<2.0dev,>=1.56.2 in /opt/conda/lib/python3.10/site-packages (from google-api-core<3.0.0,>=1.0.0->opencensus->ray[default]<2.4,>=2.3->autogluon.core==0.8.2->autogluon.tabular[all,tabpfn]) (1.57.1)\r\n",
      "Requirement already satisfied: google-auth<3.0dev,>=1.25.0 in /opt/conda/lib/python3.10/site-packages (from google-api-core<3.0.0,>=1.0.0->opencensus->ray[default]<2.4,>=2.3->autogluon.core==0.8.2->autogluon.tabular[all,tabpfn]) (2.17.3)\r\n",
      "Requirement already satisfied: cachetools<6.0,>=2.0.0 in /opt/conda/lib/python3.10/site-packages (from google-auth<3.0dev,>=1.25.0->google-api-core<3.0.0,>=1.0.0->opencensus->ray[default]<2.4,>=2.3->autogluon.core==0.8.2->autogluon.tabular[all,tabpfn]) (4.2.4)\r\n",
      "Requirement already satisfied: pyasn1-modules>=0.2.1 in /opt/conda/lib/python3.10/site-packages (from google-auth<3.0dev,>=1.25.0->google-api-core<3.0.0,>=1.0.0->opencensus->ray[default]<2.4,>=2.3->autogluon.core==0.8.2->autogluon.tabular[all,tabpfn]) (0.2.7)\r\n",
      "Requirement already satisfied: rsa<5,>=3.1.4 in /opt/conda/lib/python3.10/site-packages (from google-auth<3.0dev,>=1.25.0->google-api-core<3.0.0,>=1.0.0->opencensus->ray[default]<2.4,>=2.3->autogluon.core==0.8.2->autogluon.tabular[all,tabpfn]) (4.9)\r\n",
      "Requirement already satisfied: pyasn1<0.5.0,>=0.4.6 in /opt/conda/lib/python3.10/site-packages (from pyasn1-modules>=0.2.1->google-auth<3.0dev,>=1.25.0->google-api-core<3.0.0,>=1.0.0->opencensus->ray[default]<2.4,>=2.3->autogluon.core==0.8.2->autogluon.tabular[all,tabpfn]) (0.4.8)\r\n",
      "Installing collected packages: nvidia-cuda-runtime-cu11, nvidia-cuda-nvrtc-cu11, nvidia-cublas-cu11, grpcio, ray, nvidia-cudnn-cu11, botocore, torch, torchvision, tabpfn, autogluon.common, autogluon.features, autogluon.core, autogluon.tabular\r\n",
      "  Attempting uninstall: grpcio\r\n",
      "    Found existing installation: grpcio 1.51.3\r\n",
      "    Uninstalling grpcio-1.51.3:\r\n",
      "      Successfully uninstalled grpcio-1.51.3\r\n",
      "  Attempting uninstall: ray\r\n",
      "    Found existing installation: ray 2.4.0\r\n",
      "    Uninstalling ray-2.4.0:\r\n",
      "      Successfully uninstalled ray-2.4.0\r\n",
      "  Attempting uninstall: botocore\r\n",
      "    Found existing installation: botocore 1.29.76\r\n",
      "    Uninstalling botocore-1.29.76:\r\n",
      "      Successfully uninstalled botocore-1.29.76\r\n",
      "  Attempting uninstall: torch\r\n",
      "    Found existing installation: torch 2.0.0+cpu\r\n",
      "    Uninstalling torch-2.0.0+cpu:\r\n",
      "      Successfully uninstalled torch-2.0.0+cpu\r\n",
      "  Attempting uninstall: torchvision\r\n",
      "    Found existing installation: torchvision 0.15.1+cpu\r\n",
      "    Uninstalling torchvision-0.15.1+cpu:\r\n",
      "      Successfully uninstalled torchvision-0.15.1+cpu\r\n",
      "\u001b[31mERROR: pip's dependency resolver does not currently take into account all the packages that are installed. This behaviour is the source of the following dependency conflicts.\r\n",
      "aiobotocore 2.5.0 requires botocore<1.29.77,>=1.29.76, but you have botocore 1.29.165 which is incompatible.\r\n",
      "apache-beam 2.46.0 requires dill<0.3.2,>=0.3.1.1, but you have dill 0.3.6 which is incompatible.\r\n",
      "google-cloud-pubsub 2.16.1 requires google-api-core[grpc]!=2.0.*,!=2.1.*,!=2.10.*,!=2.2.*,!=2.3.*,!=2.4.*,!=2.5.*,!=2.6.*,!=2.7.*,!=2.8.*,!=2.9.*,<3.0.0dev,>=1.34.0, but you have google-api-core 1.33.2 which is incompatible.\r\n",
      "google-cloud-pubsub 2.16.1 requires grpcio<2.0dev,>=1.51.3, but you have grpcio 1.50.0 which is incompatible.\r\n",
      "torchaudio 2.0.1+cpu requires torch==2.0.0, but you have torch 1.13.1 which is incompatible.\r\n",
      "torchdata 0.6.0 requires torch==2.0.0, but you have torch 1.13.1 which is incompatible.\r\n",
      "torchtext 0.15.1+cpu requires torch==2.0.0, but you have torch 1.13.1 which is incompatible.\u001b[0m\u001b[31m\r\n",
      "\u001b[0mSuccessfully installed autogluon.common-0.8.2 autogluon.core-0.8.2 autogluon.features-0.8.2 autogluon.tabular-0.8.2 botocore-1.29.165 grpcio-1.50.0 nvidia-cublas-cu11-11.10.3.66 nvidia-cuda-nvrtc-cu11-11.7.99 nvidia-cuda-runtime-cu11-11.7.99 nvidia-cudnn-cu11-8.5.0.96 ray-2.3.1 tabpfn-0.1.9 torch-1.13.1 torchvision-0.14.1\r\n",
      "\u001b[33mWARNING: Running pip as the 'root' user can result in broken permissions and conflicting behaviour with the system package manager. It is recommended to use a virtual environment instead: https://pip.pypa.io/warnings/venv\u001b[0m\u001b[33m\r\n",
      "\u001b[0m"
     ]
    }
   ],
   "source": [
    "!pip install autogluon.tabular[all,tabpfn]"
   ]
  },
  {
   "cell_type": "code",
   "execution_count": 4,
   "id": "fa9031d4",
   "metadata": {
    "execution": {
     "iopub.execute_input": "2023-07-01T17:25:32.941668Z",
     "iopub.status.busy": "2023-07-01T17:25:32.941178Z",
     "iopub.status.idle": "2023-07-01T17:25:33.214458Z",
     "shell.execute_reply": "2023-07-01T17:25:33.213503Z"
    },
    "papermill": {
     "duration": 0.32517,
     "end_time": "2023-07-01T17:25:33.216781",
     "exception": false,
     "start_time": "2023-07-01T17:25:32.891611",
     "status": "completed"
    },
    "tags": []
   },
   "outputs": [],
   "source": [
    "path='../input/playground-series-s3e18/'\n",
    "train = pd.read_csv(path+'train.csv')\n",
    "test = pd.read_csv(path+'test.csv')\n",
    "origin = pd.read_csv('/kaggle/input/ec-mixed-class/mixed_desc.csv')\n",
    "submission = pd.read_csv(path+'sample_submission.csv')"
   ]
  },
  {
   "cell_type": "code",
   "execution_count": 5,
   "id": "f9ec1196",
   "metadata": {
    "execution": {
     "iopub.execute_input": "2023-07-01T17:25:33.319543Z",
     "iopub.status.busy": "2023-07-01T17:25:33.318809Z",
     "iopub.status.idle": "2023-07-01T17:25:33.325871Z",
     "shell.execute_reply": "2023-07-01T17:25:33.325154Z"
    },
    "papermill": {
     "duration": 0.06047,
     "end_time": "2023-07-01T17:25:33.327989",
     "exception": false,
     "start_time": "2023-07-01T17:25:33.267519",
     "status": "completed"
    },
    "tags": []
   },
   "outputs": [
    {
     "data": {
      "text/plain": [
       "14838"
      ]
     },
     "execution_count": 5,
     "metadata": {},
     "output_type": "execute_result"
    }
   ],
   "source": [
    "len(train)"
   ]
  },
  {
   "cell_type": "code",
   "execution_count": 6,
   "id": "2f40a091",
   "metadata": {
    "execution": {
     "iopub.execute_input": "2023-07-01T17:25:33.427298Z",
     "iopub.status.busy": "2023-07-01T17:25:33.426928Z",
     "iopub.status.idle": "2023-07-01T17:25:33.448163Z",
     "shell.execute_reply": "2023-07-01T17:25:33.446381Z"
    },
    "papermill": {
     "duration": 0.073495,
     "end_time": "2023-07-01T17:25:33.450911",
     "exception": false,
     "start_time": "2023-07-01T17:25:33.377416",
     "status": "completed"
    },
    "tags": []
   },
   "outputs": [],
   "source": [
    "train=train.drop(\"id\",axis=1)\n",
    "test=test.drop(\"id\",axis=1)"
   ]
  },
  {
   "cell_type": "code",
   "execution_count": 7,
   "id": "c1d2e579",
   "metadata": {
    "execution": {
     "iopub.execute_input": "2023-07-01T17:25:33.551081Z",
     "iopub.status.busy": "2023-07-01T17:25:33.550696Z",
     "iopub.status.idle": "2023-07-01T17:25:33.558675Z",
     "shell.execute_reply": "2023-07-01T17:25:33.557481Z"
    },
    "papermill": {
     "duration": 0.060617,
     "end_time": "2023-07-01T17:25:33.560494",
     "exception": false,
     "start_time": "2023-07-01T17:25:33.499877",
     "status": "completed"
    },
    "tags": []
   },
   "outputs": [],
   "source": [
    "columns_to_keep = [\n",
    "    \"BertzCT\", \"Chi1\", \"Chi1n\", \"Chi1v\", \"Chi2n\", \"Chi2v\", \"Chi3v\", \"Chi4n\", \n",
    "    \"EState_VSA1\", \"EState_VSA2\", \"ExactMolWt\", \"FpDensityMorgan1\", \"FpDensityMorgan2\",\n",
    "    \"FpDensityMorgan3\", \"HallKierAlpha\", \"HeavyAtomMolWt\", \"Kappa3\", \"MaxAbsEStateIndex\", \n",
    "    \"MinEStateIndex\", \"NumHeteroatoms\", \"PEOE_VSA10\", \"PEOE_VSA14\", \"PEOE_VSA6\", \n",
    "    \"PEOE_VSA7\", \"PEOE_VSA8\", \"SMR_VSA10\", \"SMR_VSA5\", \"SlogP_VSA3\", \"VSA_EState9\", \n",
    "    \"fr_COO\", \"fr_COO2\", \"EC1_EC2_EC3_EC4_EC5_EC6\"\n",
    "]\n",
    "origin = origin[columns_to_keep]"
   ]
  },
  {
   "cell_type": "code",
   "execution_count": 8,
   "id": "6c05a77b",
   "metadata": {
    "execution": {
     "iopub.execute_input": "2023-07-01T17:25:33.658310Z",
     "iopub.status.busy": "2023-07-01T17:25:33.657771Z",
     "iopub.status.idle": "2023-07-01T17:25:33.677197Z",
     "shell.execute_reply": "2023-07-01T17:25:33.675698Z"
    },
    "papermill": {
     "duration": 0.071425,
     "end_time": "2023-07-01T17:25:33.679581",
     "exception": false,
     "start_time": "2023-07-01T17:25:33.608156",
     "status": "completed"
    },
    "tags": []
   },
   "outputs": [],
   "source": [
    "origin = origin.copy()\n",
    "origin[\"EC1\"] = origin[\"EC1_EC2_EC3_EC4_EC5_EC6\"].str[0].astype('uint8')\n",
    "origin[\"EC2\"] = origin[\"EC1_EC2_EC3_EC4_EC5_EC6\"].str[2].astype('uint8')\n",
    "origin[\"EC3\"] = origin[\"EC1_EC2_EC3_EC4_EC5_EC6\"].str[4].astype('uint8')\n",
    "origin[\"EC4\"] = origin[\"EC1_EC2_EC3_EC4_EC5_EC6\"].str[6].astype('uint8')\n",
    "origin[\"EC5\"] = origin[\"EC1_EC2_EC3_EC4_EC5_EC6\"].str[8].astype('uint8')\n",
    "origin[\"EC6\"] = origin[\"EC1_EC2_EC3_EC4_EC5_EC6\"].str[10].astype('uint8')\n",
    "origin = origin.drop(columns=['EC1_EC2_EC3_EC4_EC5_EC6'])"
   ]
  },
  {
   "cell_type": "code",
   "execution_count": 9,
   "id": "19affaa2",
   "metadata": {
    "execution": {
     "iopub.execute_input": "2023-07-01T17:25:33.780408Z",
     "iopub.status.busy": "2023-07-01T17:25:33.780007Z",
     "iopub.status.idle": "2023-07-01T17:25:33.789783Z",
     "shell.execute_reply": "2023-07-01T17:25:33.788309Z"
    },
    "papermill": {
     "duration": 0.063748,
     "end_time": "2023-07-01T17:25:33.792342",
     "exception": false,
     "start_time": "2023-07-01T17:25:33.728594",
     "status": "completed"
    },
    "tags": []
   },
   "outputs": [
    {
     "name": "stdout",
     "output_type": "stream",
     "text": [
      "In train:\n",
      "Number of -666 in FpDensityMorgan1: 1\n",
      "Number of -666 in FpDensityMorgan2: 1\n",
      "Number of -666 in FpDensityMorgan3: 1\n",
      "In origin:\n",
      "Number of -666 in FpDensityMorgan1: 1\n",
      "Number of -666 in FpDensityMorgan2: 1\n",
      "Number of -666 in FpDensityMorgan3: 1\n"
     ]
    }
   ],
   "source": [
    "cols = ['FpDensityMorgan1', 'FpDensityMorgan2', 'FpDensityMorgan3']\n",
    "\n",
    "for df_name, df in zip([\"train\", \"origin\"], [train, origin]):\n",
    "    print(f\"In {df_name}:\")\n",
    "    for col in cols:\n",
    "        count = (df[col] == -666).sum()\n",
    "        print(f\"Number of -666 in {col}: {count}\")"
   ]
  },
  {
   "cell_type": "code",
   "execution_count": 10,
   "id": "4f066778",
   "metadata": {
    "execution": {
     "iopub.execute_input": "2023-07-01T17:25:33.891917Z",
     "iopub.status.busy": "2023-07-01T17:25:33.891542Z",
     "iopub.status.idle": "2023-07-01T17:25:33.918510Z",
     "shell.execute_reply": "2023-07-01T17:25:33.917154Z"
    },
    "papermill": {
     "duration": 0.080214,
     "end_time": "2023-07-01T17:25:33.921322",
     "exception": false,
     "start_time": "2023-07-01T17:25:33.841108",
     "status": "completed"
    },
    "tags": []
   },
   "outputs": [],
   "source": [
    "#del outlier -666\n",
    "cols = ['FpDensityMorgan1', 'FpDensityMorgan2', 'FpDensityMorgan3']\n",
    "\n",
    "for df_name in [\"train\", \"origin\"]:\n",
    "    exec(f'{df_name} = {df_name}[~{df_name}[cols].isin([-666]).any(axis=1)].reset_index(drop=True)')\n",
    "    exec(f'{df_name} = {df_name}[~{df_name}[cols].isin([-14.4584615]).any(axis=1)].reset_index(drop=True)')"
   ]
  },
  {
   "cell_type": "code",
   "execution_count": 11,
   "id": "c5b3fe4c",
   "metadata": {
    "execution": {
     "iopub.execute_input": "2023-07-01T17:25:34.021971Z",
     "iopub.status.busy": "2023-07-01T17:25:34.021615Z",
     "iopub.status.idle": "2023-07-01T17:25:34.038065Z",
     "shell.execute_reply": "2023-07-01T17:25:34.036645Z"
    },
    "papermill": {
     "duration": 0.070098,
     "end_time": "2023-07-01T17:25:34.040675",
     "exception": false,
     "start_time": "2023-07-01T17:25:33.970577",
     "status": "completed"
    },
    "tags": []
   },
   "outputs": [],
   "source": [
    "columns_to_convert_uint8 = ['NumHeteroatoms', 'fr_COO', 'fr_COO2']\n",
    "columns_to_convert_bool = ['EC1', 'EC2', 'EC3', 'EC4', 'EC5', 'EC6']\n",
    "for column in columns_to_convert_uint8:\n",
    "    train[column] = train[column].astype('uint8')\n",
    "    test[column] = test[column].astype('uint8')\n",
    "    origin[column]= origin[column].astype('uint8')\n",
    "for column in columns_to_convert_bool:\n",
    "    train[column] = train[column].astype('uint8')\n",
    "    origin[column]= origin[column].astype('uint8')"
   ]
  },
  {
   "cell_type": "code",
   "execution_count": 12,
   "id": "4b76662e",
   "metadata": {
    "execution": {
     "iopub.execute_input": "2023-07-01T17:25:34.143553Z",
     "iopub.status.busy": "2023-07-01T17:25:34.143187Z",
     "iopub.status.idle": "2023-07-01T17:25:34.184372Z",
     "shell.execute_reply": "2023-07-01T17:25:34.182585Z"
    },
    "papermill": {
     "duration": 0.096919,
     "end_time": "2023-07-01T17:25:34.187055",
     "exception": false,
     "start_time": "2023-07-01T17:25:34.090136",
     "status": "completed"
    },
    "tags": []
   },
   "outputs": [
    {
     "name": "stdout",
     "output_type": "stream",
     "text": [
      "Number of duplicate rows removed: 36\n"
     ]
    }
   ],
   "source": [
    "train = pd.concat([train, origin])\n",
    "len_before = len(train)\n",
    "\n",
    "\n",
    "train = train.drop_duplicates().reset_index(drop=True)\n",
    "len_after = len(train)\n",
    "\n",
    "print(\"Number of duplicate rows removed:\", len_before - len_after)"
   ]
  },
  {
   "cell_type": "code",
   "execution_count": 13,
   "id": "290f2e05",
   "metadata": {
    "execution": {
     "iopub.execute_input": "2023-07-01T17:25:34.288941Z",
     "iopub.status.busy": "2023-07-01T17:25:34.288510Z",
     "iopub.status.idle": "2023-07-01T17:25:37.044939Z",
     "shell.execute_reply": "2023-07-01T17:25:37.043897Z"
    },
    "papermill": {
     "duration": 2.811621,
     "end_time": "2023-07-01T17:25:37.048062",
     "exception": false,
     "start_time": "2023-07-01T17:25:34.236441",
     "status": "completed"
    },
    "tags": []
   },
   "outputs": [],
   "source": [
    "import tabpfn"
   ]
  },
  {
   "cell_type": "code",
   "execution_count": 14,
   "id": "72ff5901",
   "metadata": {
    "execution": {
     "iopub.execute_input": "2023-07-01T17:25:37.151257Z",
     "iopub.status.busy": "2023-07-01T17:25:37.149692Z",
     "iopub.status.idle": "2023-07-01T17:25:37.155840Z",
     "shell.execute_reply": "2023-07-01T17:25:37.154665Z"
    },
    "papermill": {
     "duration": 0.060508,
     "end_time": "2023-07-01T17:25:37.157878",
     "exception": false,
     "start_time": "2023-07-01T17:25:37.097370",
     "status": "completed"
    },
    "tags": []
   },
   "outputs": [],
   "source": [
    "# hyperparameters={\n",
    "#     'TABPFN': {},\n",
    "#     'NN_TORCH': {},\n",
    "#     'GBM': [{'extra_trees': True, 'ag_args': {'name_suffix': 'XT'}}, {}, 'GBMLarge'],\n",
    "#     'CAT': {},\n",
    "#     'XGB': {},\n",
    "#     'FASTAI': {},\n",
    "#     'RF': [{'criterion': 'gini', 'ag_args': {'name_suffix': 'Gini', 'problem_types': ['binary', 'multiclass']}}, {'criterion': 'entropy', 'ag_args': {'name_suffix': 'Entr', 'problem_types': ['binary', 'multiclass']}}, {'criterion': 'squared_error', 'ag_args': {'name_suffix': 'MSE', 'problem_types': ['regression', 'quantile']}}],\n",
    "#     'XT': [{'criterion': 'gini', 'ag_args': {'name_suffix': 'Gini', 'problem_types': ['binary', 'multiclass']}}, {'criterion': 'entropy', 'ag_args': {'name_suffix': 'Entr', 'problem_types': ['binary', 'multiclass']}}, {'criterion': 'squared_error', 'ag_args': {'name_suffix': 'MSE', 'problem_types': ['regression', 'quantile']}}],\n",
    "#     'KNN': [{'weights': 'uniform', 'ag_args': {'name_suffix': 'Unif'}}, {'weights': 'distance', 'ag_args': {'name_suffix': 'Dist'}}],\n",
    "# }"
   ]
  },
  {
   "cell_type": "code",
   "execution_count": 15,
   "id": "c0579f67",
   "metadata": {
    "execution": {
     "iopub.execute_input": "2023-07-01T17:25:37.256138Z",
     "iopub.status.busy": "2023-07-01T17:25:37.255795Z",
     "iopub.status.idle": "2023-07-01T17:25:37.269780Z",
     "shell.execute_reply": "2023-07-01T17:25:37.268767Z"
    },
    "papermill": {
     "duration": 0.066338,
     "end_time": "2023-07-01T17:25:37.272620",
     "exception": false,
     "start_time": "2023-07-01T17:25:37.206282",
     "status": "completed"
    },
    "tags": []
   },
   "outputs": [],
   "source": [
    "hyperparameters={\n",
    "    'TABPFN': [{'N_ensemble_configurations': 5}],\n",
    "    'XT': [{'min_samples_leaf': 1, 'max_leaf_nodes': 15000, 'max_features': 0.5, 'ag_args': {'name_suffix': '_r19', 'priority': 20}}],\n",
    "    'RF': [{'min_samples_leaf': 5, 'max_leaf_nodes': 50000, 'max_features': 0.5, 'ag_args': {'name_suffix': '_r5', 'priority': 19}}],\n",
    "    'GBM': [{'extra_trees': False, 'feature_fraction': 0.7248284762542815, 'learning_rate': 0.07947286942946127, 'min_data_in_leaf': 50, 'num_leaves': 89, 'ag_args': {'name_suffix': '_r158', 'priority': 18}}, {'extra_trees': True, 'feature_fraction': 0.7832570544199176, 'learning_rate': 0.021720607471727896, 'min_data_in_leaf': 3, 'num_leaves': 21, 'ag_args': {'name_suffix': '_r118', 'priority': 17}}, {'extra_trees': True, 'feature_fraction': 0.7113010892989156, 'learning_rate': 0.012535427424259274, 'min_data_in_leaf': 16, 'num_leaves': 48, 'ag_args': {'name_suffix': '_r97', 'priority': 16}}, {'extra_trees': True, 'feature_fraction': 0.45555769907110816, 'learning_rate': 0.009591347321206594, 'min_data_in_leaf': 50, 'num_leaves': 110, 'ag_args': {'name_suffix': '_r71', 'priority': 15}}, {'extra_trees': False, 'feature_fraction': 0.40979710161022476, 'learning_rate': 0.008708890211023034, 'min_data_in_leaf': 3, 'num_leaves': 80, 'ag_args': {'name_suffix': '_r111', 'priority': 14}}],\n",
    "    'FASTAI': [{'bs': 1024, 'emb_drop': 0.6167722379778131, 'epochs': 44, 'layers': [200, 100, 50], 'lr': 0.053440377855629266, 'ps': 0.48477211305443607, 'ag_args': {'name_suffix': '_r25', 'priority': 13}}, {'bs': 1024, 'emb_drop': 0.6046989241462619, 'epochs': 48, 'layers': [200, 100, 50], 'lr': 0.00775309042164966, 'ps': 0.09244767444160731, 'ag_args': {'name_suffix': '_r51', 'priority': 12}}, {'bs': 512, 'emb_drop': 0.6557225316526186, 'epochs': 49, 'layers': [200, 100], 'lr': 0.023627682025564638, 'ps': 0.519566584552178, 'ag_args': {'name_suffix': '_r82', 'priority': 11}}, {'bs': 2048, 'emb_drop': 0.4066210919034579, 'epochs': 43, 'layers': [400, 200], 'lr': 0.0029598312717673434, 'ps': 0.4378695797438974, 'ag_args': {'name_suffix': '_r121', 'priority': 10}}, {'bs': 128, 'emb_drop': 0.44339037504795686, 'epochs': 31, 'layers': [400, 200, 100], 'lr': 0.008615195908919904, 'ps': 0.19220253419114286, 'ag_args': {'name_suffix': '_r145', 'priority': 9}}, {'bs': 128, 'emb_drop': 0.12106594798980945, 'epochs': 38, 'layers': [200, 100, 50], 'lr': 0.037991970245029975, 'ps': 0.33120008492595093, 'ag_args': {'name_suffix': '_r173', 'priority': 8}}, {'bs': 128, 'emb_drop': 0.4599138419358, 'epochs': 47, 'layers': [200, 100], 'lr': 0.03888383281136287, 'ps': 0.28193673177122863, 'ag_args': {'name_suffix': '_r128', 'priority': 7}}],\n",
    "    'CAT': [{'depth': 5, 'l2_leaf_reg': 4.774992314058497, 'learning_rate': 0.038551267822920274, 'ag_args': {'name_suffix': '_r16', 'priority': 6}}, {'depth': 4, 'l2_leaf_reg': 1.9950125740798321, 'learning_rate': 0.028091050379971633, 'ag_args': {'name_suffix': '_r42', 'priority': 5}}, {'depth': 6, 'l2_leaf_reg': 1.8298803017644376, 'learning_rate': 0.017844259810823604, 'ag_args': {'name_suffix': '_r93', 'priority': 4}}, {'depth': 7, 'l2_leaf_reg': 4.81099604606794, 'learning_rate': 0.019085060180573103, 'ag_args': {'name_suffix': '_r44', 'priority': 3}}]\n",
    "}\n"
   ]
  },
  {
   "cell_type": "code",
   "execution_count": 16,
   "id": "350840fe",
   "metadata": {
    "execution": {
     "iopub.execute_input": "2023-07-01T17:25:37.373553Z",
     "iopub.status.busy": "2023-07-01T17:25:37.373163Z",
     "iopub.status.idle": "2023-07-01T17:25:38.682101Z",
     "shell.execute_reply": "2023-07-01T17:25:38.681003Z"
    },
    "papermill": {
     "duration": 1.362054,
     "end_time": "2023-07-01T17:25:38.684642",
     "exception": false,
     "start_time": "2023-07-01T17:25:37.322588",
     "status": "completed"
    },
    "tags": []
   },
   "outputs": [],
   "source": [
    "from autogluon.tabular import TabularDataset, TabularPredictor\n",
    "from autogluon.common.utils.utils import setup_outputdir\n",
    "from autogluon.core.utils.loaders import load_pkl\n",
    "from autogluon.core.utils.savers import save_pkl\n",
    "import os.path\n",
    "\n",
    "class MultilabelPredictor():\n",
    "    \"\"\" Tabular Predictor for predicting multiple columns in table.\n",
    "        Creates multiple TabularPredictor objects which you can also use individually.\n",
    "        You can access the TabularPredictor for a particular label via: `multilabel_predictor.get_predictor(label_i)`\n",
    "\n",
    "        Parameters\n",
    "        ----------\n",
    "        labels : List[str]\n",
    "            The ith element of this list is the column (i.e. `label`) predicted by the ith TabularPredictor stored in this object.\n",
    "        path : str, default = None\n",
    "            Path to directory where models and intermediate outputs should be saved.\n",
    "            If unspecified, a time-stamped folder called \"AutogluonModels/ag-[TIMESTAMP]\" will be created in the working directory to store all models.\n",
    "            Note: To call `fit()` twice and save all results of each fit, you must specify different `path` locations or don't specify `path` at all.\n",
    "            Otherwise files from first `fit()` will be overwritten by second `fit()`.\n",
    "            Caution: when predicting many labels, this directory may grow large as it needs to store many TabularPredictors.\n",
    "        problem_types : List[str], default = None\n",
    "            The ith element is the `problem_type` for the ith TabularPredictor stored in this object.\n",
    "        eval_metrics : List[str], default = None\n",
    "            The ith element is the `eval_metric` for the ith TabularPredictor stored in this object.\n",
    "        consider_labels_correlation : bool, default = True\n",
    "            Whether the predictions of multiple labels should account for label correlations or predict each label independently of the others.\n",
    "            If True, the ordering of `labels` may affect resulting accuracy as each label is predicted conditional on the previous labels appearing earlier in this list (i.e. in an auto-regressive fashion).\n",
    "            Set to False if during inference you may want to individually use just the ith TabularPredictor without predicting all the other labels.\n",
    "        kwargs :\n",
    "            Arguments passed into the initialization of each TabularPredictor.\n",
    "\n",
    "    \"\"\"\n",
    "\n",
    "    multi_predictor_file = 'multilabel_predictor.pkl'\n",
    "\n",
    "    def __init__(self, labels, path=None, problem_types=None, eval_metrics=None, consider_labels_correlation=True, **kwargs):\n",
    "        if len(labels) < 2:\n",
    "            raise ValueError(\"MultilabelPredictor is only intended for predicting MULTIPLE labels (columns), use TabularPredictor for predicting one label (column).\")\n",
    "        if (problem_types is not None) and (len(problem_types) != len(labels)):\n",
    "            raise ValueError(\"If provided, `problem_types` must have same length as `labels`\")\n",
    "        if (eval_metrics is not None) and (len(eval_metrics) != len(labels)):\n",
    "            raise ValueError(\"If provided, `eval_metrics` must have same length as `labels`\")\n",
    "        self.path = setup_outputdir(path, warn_if_exist=False)\n",
    "        self.labels = labels\n",
    "        self.consider_labels_correlation = consider_labels_correlation\n",
    "        self.predictors = {}  # key = label, value = TabularPredictor or str path to the TabularPredictor for this label\n",
    "        if eval_metrics is None:\n",
    "            self.eval_metrics = {}\n",
    "        else:\n",
    "            self.eval_metrics = {labels[i] : eval_metrics[i] for i in range(len(labels))}\n",
    "        problem_type = None\n",
    "        eval_metric = None\n",
    "        for i in range(len(labels)):\n",
    "            label = labels[i]\n",
    "            path_i = self.path + \"Predictor_\" + label\n",
    "            if problem_types is not None:\n",
    "                problem_type = problem_types[i]\n",
    "            if eval_metrics is not None:\n",
    "                eval_metric = eval_metrics[i]\n",
    "            self.predictors[label] = TabularPredictor(label=label,problem_type=problem_type, eval_metric=eval_metric, path=path_i, **kwargs)\n",
    "\n",
    "    def fit(self, train_data,tuning_data=None, **kwargs):\n",
    "        \"\"\" Fits a separate TabularPredictor to predict each of the labels.\n",
    "\n",
    "            Parameters\n",
    "            ----------\n",
    "            train_data, tuning_data : str or autogluon.tabular.TabularDataset or pd.DataFrame\n",
    "                See documentation for `TabularPredictor.fit()`.\n",
    "            kwargs :\n",
    "                Arguments passed into the `fit()` call for each TabularPredictor.\n",
    "        \"\"\"\n",
    "        if isinstance(train_data, str):\n",
    "            train_data = TabularDataset(train_data)\n",
    "        if tuning_data is not None and isinstance(tuning_data, str):\n",
    "            tuning_data = TabularDataset(tuning_data)\n",
    "        train_data_og = train_data.copy()\n",
    "        if tuning_data is not None:\n",
    "            tuning_data_og = tuning_data.copy()\n",
    "        else:\n",
    "            tuning_data_og = None\n",
    "        save_metrics = len(self.eval_metrics) == 0\n",
    "        for i in range(len(self.labels)):\n",
    "            label = self.labels[i]\n",
    "            predictor = self.get_predictor(label)\n",
    "            if not self.consider_labels_correlation:\n",
    "                labels_to_drop = [l for l in self.labels if l != label]\n",
    "            else:\n",
    "                labels_to_drop = [self.labels[j] for j in range(i+1, len(self.labels))]\n",
    "            train_data = train_data_og.drop(labels_to_drop, axis=1)\n",
    "            if tuning_data is not None:\n",
    "                tuning_data = tuning_data_og.drop(labels_to_drop, axis=1)\n",
    "            print(f\"Fitting TabularPredictor for label: {label} ...\")\n",
    "            predictor.fit(train_data=train_data,hyperparameters=hyperparameters,tuning_data=tuning_data, **kwargs)\n",
    "#             predictor.fit(train_data=train_data,tuning_data=tuning_data, **kwargs)\n",
    "            self.predictors[label] = predictor.path\n",
    "            if save_metrics:\n",
    "                self.eval_metrics[label] = predictor.eval_metric\n",
    "        self.save()\n",
    "\n",
    "    def predict(self, data, **kwargs):\n",
    "        \"\"\" Returns DataFrame with label columns containing predictions for each label.\n",
    "\n",
    "            Parameters\n",
    "            ----------\n",
    "            data : str or autogluon.tabular.TabularDataset or pd.DataFrame\n",
    "                Data to make predictions for. If label columns are present in this data, they will be ignored. See documentation for `TabularPredictor.predict()`.\n",
    "            kwargs :\n",
    "                Arguments passed into the predict() call for each TabularPredictor.\n",
    "        \"\"\"\n",
    "        return self._predict(data, as_proba=False, **kwargs)\n",
    "\n",
    "    def predict_proba(self, data, **kwargs):\n",
    "        \"\"\" Returns dict where each key is a label and the corresponding value is the `predict_proba()` output for just that label.\n",
    "\n",
    "            Parameters\n",
    "            ----------\n",
    "            data : str or autogluon.tabular.TabularDataset or pd.DataFrame\n",
    "                Data to make predictions for. See documentation for `TabularPredictor.predict()` and `TabularPredictor.predict_proba()`.\n",
    "            kwargs :\n",
    "                Arguments passed into the `predict_proba()` call for each TabularPredictor (also passed into a `predict()` call).\n",
    "        \"\"\"\n",
    "        return self._predict(data, as_proba=True, **kwargs)\n",
    "\n",
    "    def evaluate(self, data, **kwargs):\n",
    "        \"\"\" Returns dict where each key is a label and the corresponding value is the `evaluate()` output for just that label.\n",
    "\n",
    "            Parameters\n",
    "            ----------\n",
    "            data : str or autogluon.tabular.TabularDataset or pd.DataFrame\n",
    "                Data to evalate predictions of all labels for, must contain all labels as columns. See documentation for `TabularPredictor.evaluate()`.\n",
    "            kwargs :\n",
    "                Arguments passed into the `evaluate()` call for each TabularPredictor (also passed into the `predict()` call).\n",
    "        \"\"\"\n",
    "        data = self._get_data(data)\n",
    "        eval_dict = {}\n",
    "        for label in self.labels:\n",
    "            print(f\"Evaluating TabularPredictor for label: {label} ...\")\n",
    "            predictor = self.get_predictor(label)\n",
    "            eval_dict[label] = predictor.evaluate(data, **kwargs)\n",
    "            if self.consider_labels_correlation:\n",
    "                data[label] = predictor.predict(data, **kwargs)\n",
    "        return eval_dict\n",
    "\n",
    "    def save(self):\n",
    "        \"\"\" Save MultilabelPredictor to disk. \"\"\"\n",
    "        for label in self.labels:\n",
    "            if not isinstance(self.predictors[label], str):\n",
    "                self.predictors[label] = self.predictors[label].path\n",
    "        save_pkl.save(path=self.path+self.multi_predictor_file, object=self)\n",
    "        print(f\"MultilabelPredictor saved to disk. Load with: MultilabelPredictor.load('{self.path}')\")\n",
    "\n",
    "    @classmethod\n",
    "    def load(cls, path):\n",
    "        \"\"\" Load MultilabelPredictor from disk `path` previously specified when creating this MultilabelPredictor. \"\"\"\n",
    "        path = os.path.expanduser(path)\n",
    "        if path[-1] != os.path.sep:\n",
    "            path = path + os.path.sep\n",
    "        return load_pkl.load(path=path+cls.multi_predictor_file)\n",
    "\n",
    "    def get_predictor(self, label):\n",
    "        \"\"\" Returns TabularPredictor which is used to predict this label. \"\"\"\n",
    "        predictor = self.predictors[label]\n",
    "        if isinstance(predictor, str):\n",
    "            return TabularPredictor.load(path=predictor)\n",
    "        return predictor\n",
    "\n",
    "    def _get_data(self, data):\n",
    "        if isinstance(data, str):\n",
    "            return TabularDataset(data)\n",
    "        return data.copy()\n",
    "\n",
    "    def _predict(self, data, as_proba=False, **kwargs):\n",
    "        data = self._get_data(data)\n",
    "        if as_proba:\n",
    "            predproba_dict = {}\n",
    "        for label in self.labels:\n",
    "            print(f\"Predicting with TabularPredictor for label: {label} ...\")\n",
    "            predictor = self.get_predictor(label)\n",
    "            if as_proba:\n",
    "                predproba_dict[label] = predictor.predict_proba(data, as_multiclass=True, **kwargs)\n",
    "            data[label] = predictor.predict(data, **kwargs)\n",
    "        if not as_proba:\n",
    "            return data[self.labels]\n",
    "        else:\n",
    "            return predproba_dict"
   ]
  },
  {
   "cell_type": "code",
   "execution_count": 17,
   "id": "c0224a15",
   "metadata": {
    "execution": {
     "iopub.execute_input": "2023-07-01T17:25:38.785327Z",
     "iopub.status.busy": "2023-07-01T17:25:38.784946Z",
     "iopub.status.idle": "2023-07-01T17:25:38.810512Z",
     "shell.execute_reply": "2023-07-01T17:25:38.809091Z"
    },
    "papermill": {
     "duration": 0.079375,
     "end_time": "2023-07-01T17:25:38.813521",
     "exception": false,
     "start_time": "2023-07-01T17:25:38.734146",
     "status": "completed"
    },
    "tags": []
   },
   "outputs": [],
   "source": [
    "def create_features(df):\n",
    "    \n",
    "    new_features = {\n",
    "        'BertzCT_MaxAbsEStateIndex_Ratio': df['BertzCT'] / (df['MaxAbsEStateIndex'] + 1e-12),\n",
    "        'BertzCT_ExactMolWt_Product': df['BertzCT'] * df['ExactMolWt'],\n",
    "        'NumHeteroatoms_FpDensityMorgan1_Ratio': df['NumHeteroatoms'] / (df['FpDensityMorgan1'] + 1e-12),\n",
    "        'VSA_EState9_EState_VSA1_Ratio': df['VSA_EState9'] / (df['EState_VSA1'] + 1e-12),\n",
    "        'PEOE_VSA10_SMR_VSA5_Ratio': df['PEOE_VSA10'] / (df['SMR_VSA5'] + 1e-12),\n",
    "        'Chi1v_ExactMolWt_Product': df['Chi1v'] * df['ExactMolWt'],\n",
    "        'Chi2v_ExactMolWt_Product': df['Chi2v'] * df['ExactMolWt'],\n",
    "        'Chi3v_ExactMolWt_Product': df['Chi3v'] * df['ExactMolWt'],\n",
    "        'EState_VSA1_NumHeteroatoms_Product': df['EState_VSA1'] * df['NumHeteroatoms'],\n",
    "        'PEOE_VSA10_Chi1_Ratio': df['PEOE_VSA10'] / (df['Chi1'] + 1e-12),\n",
    "        'MaxAbsEStateIndex_NumHeteroatoms_Ratio': df['MaxAbsEStateIndex'] / (df['NumHeteroatoms'] + 1e-12),\n",
    "        'BertzCT_Chi1_Ratio': df['BertzCT'] / (df['Chi1'] + 1e-12),\n",
    "    }\n",
    "    \n",
    "    df = df.assign(**new_features)\n",
    "    new_cols = list(new_features.keys())\n",
    "    \n",
    "    return df, new_cols\n",
    "train,_=create_features(train)\n",
    "test,_=create_features(test)"
   ]
  },
  {
   "cell_type": "code",
   "execution_count": 18,
   "id": "12b898f2",
   "metadata": {
    "execution": {
     "iopub.execute_input": "2023-07-01T17:25:38.912767Z",
     "iopub.status.busy": "2023-07-01T17:25:38.912392Z",
     "iopub.status.idle": "2023-07-01T17:25:38.917185Z",
     "shell.execute_reply": "2023-07-01T17:25:38.916300Z"
    },
    "papermill": {
     "duration": 0.056154,
     "end_time": "2023-07-01T17:25:38.918922",
     "exception": false,
     "start_time": "2023-07-01T17:25:38.862768",
     "status": "completed"
    },
    "tags": []
   },
   "outputs": [],
   "source": [
    "train = TabularDataset(train)\n",
    "test = TabularDataset(test)"
   ]
  },
  {
   "cell_type": "code",
   "execution_count": 19,
   "id": "9ef5cfff",
   "metadata": {
    "execution": {
     "iopub.execute_input": "2023-07-01T17:25:39.017663Z",
     "iopub.status.busy": "2023-07-01T17:25:39.017296Z",
     "iopub.status.idle": "2023-07-01T17:25:39.026321Z",
     "shell.execute_reply": "2023-07-01T17:25:39.025120Z"
    },
    "papermill": {
     "duration": 0.060828,
     "end_time": "2023-07-01T17:25:39.028127",
     "exception": false,
     "start_time": "2023-07-01T17:25:38.967299",
     "status": "completed"
    },
    "tags": []
   },
   "outputs": [],
   "source": [
    "train = train.drop(columns=['EC6', 'EC3', 'EC4', 'EC5'])"
   ]
  },
  {
   "cell_type": "code",
   "execution_count": 20,
   "id": "e78716c7",
   "metadata": {
    "execution": {
     "iopub.execute_input": "2023-07-01T17:25:39.128924Z",
     "iopub.status.busy": "2023-07-01T17:25:39.128556Z",
     "iopub.status.idle": "2023-07-01T17:37:35.198143Z",
     "shell.execute_reply": "2023-07-01T17:37:35.196798Z"
    },
    "papermill": {
     "duration": 716.123984,
     "end_time": "2023-07-01T17:37:35.200894",
     "exception": false,
     "start_time": "2023-07-01T17:25:39.076910",
     "status": "completed"
    },
    "tags": []
   },
   "outputs": [
    {
     "name": "stderr",
     "output_type": "stream",
     "text": [
      "No path specified. Models will be saved in: \"AutogluonModels/ag-20230701_172539/\"\n",
      "Presets specified: ['medium_quality']\n",
      "Beginning AutoGluon training ... Time limit = 19800s\n",
      "AutoGluon will save models to \"AutogluonModels/ag-20230701_172539/Predictor_EC1/\"\n",
      "AutoGluon Version:  0.8.2\n",
      "Python Version:     3.10.10\n",
      "Operating System:   Linux\n",
      "Platform Machine:   x86_64\n",
      "Platform Version:   #1 SMP Tue Jun 27 10:54:51 UTC 2023\n",
      "Disk Space Avail:   20.94 GB / 20.96 GB (99.9%)\n",
      "Train Data Rows:    15838\n",
      "Train Data Columns: 43\n",
      "Label Column: EC1\n",
      "Preprocessing data ...\n",
      "Selected class <--> label mapping:  class 1 = 1, class 0 = 0\n",
      "Using Feature Generators to preprocess the data ...\n",
      "Fitting AutoMLPipelineFeatureGenerator...\n",
      "\tAvailable Memory:                    32331.92 MB\n",
      "\tTrain Data (Original)  Memory Usage: 5.12 MB (0.0% of available memory)\n",
      "\tInferring data type of each feature based on column values. Set feature_metadata_in to manually specify special dtypes of the features.\n",
      "\tStage 1 Generators:\n",
      "\t\tFitting AsTypeFeatureGenerator...\n",
      "\tStage 2 Generators:\n",
      "\t\tFitting FillNaFeatureGenerator...\n",
      "\tStage 3 Generators:\n",
      "\t\tFitting IdentityFeatureGenerator...\n",
      "\tStage 4 Generators:\n",
      "\t\tFitting DropUniqueFeatureGenerator...\n",
      "\tStage 5 Generators:\n",
      "\t\tFitting DropDuplicatesFeatureGenerator...\n"
     ]
    },
    {
     "name": "stdout",
     "output_type": "stream",
     "text": [
      "Fitting TabularPredictor for label: EC1 ...\n"
     ]
    },
    {
     "name": "stderr",
     "output_type": "stream",
     "text": [
      "\tTypes of features in original data (raw dtype, special dtypes):\n",
      "\t\t('float', []) : 40 | ['BertzCT', 'Chi1', 'Chi1n', 'Chi1v', 'Chi2n', ...]\n",
      "\t\t('int', [])   :  3 | ['NumHeteroatoms', 'fr_COO', 'fr_COO2']\n",
      "\tTypes of features in processed data (raw dtype, special dtypes):\n",
      "\t\t('float', []) : 40 | ['BertzCT', 'Chi1', 'Chi1n', 'Chi1v', 'Chi2n', ...]\n",
      "\t\t('int', [])   :  3 | ['NumHeteroatoms', 'fr_COO', 'fr_COO2']\n",
      "\t0.2s = Fit runtime\n",
      "\t43 features in original data used to generate 43 features in processed data.\n",
      "\tTrain Data (Processed) Memory Usage: 5.12 MB (0.0% of available memory)\n",
      "Data preprocessing and feature engineering runtime = 0.22s ...\n",
      "AutoGluon will gauge predictive performance using evaluation metric: 'roc_auc'\n",
      "\tThis metric expects predicted probabilities rather than predicted class labels, so you'll need to use predict_proba() instead of predict()\n",
      "\tTo change this, specify the eval_metric parameter of Predictor()\n",
      "Automatically generating train/validation split with holdout_frac=0.1, Train Rows: 14254, Val Rows: 1584\n",
      "User-specified model hyperparameters to be fit:\n",
      "{\n",
      "\t'TABPFN': [{'N_ensemble_configurations': 5}],\n",
      "\t'XT': [{'min_samples_leaf': 1, 'max_leaf_nodes': 15000, 'max_features': 0.5, 'ag_args': {'name_suffix': '_r19', 'priority': 20}}],\n",
      "\t'RF': [{'min_samples_leaf': 5, 'max_leaf_nodes': 50000, 'max_features': 0.5, 'ag_args': {'name_suffix': '_r5', 'priority': 19}}],\n",
      "\t'GBM': [{'extra_trees': False, 'feature_fraction': 0.7248284762542815, 'learning_rate': 0.07947286942946127, 'min_data_in_leaf': 50, 'num_leaves': 89, 'ag_args': {'name_suffix': '_r158', 'priority': 18}}, {'extra_trees': True, 'feature_fraction': 0.7832570544199176, 'learning_rate': 0.021720607471727896, 'min_data_in_leaf': 3, 'num_leaves': 21, 'ag_args': {'name_suffix': '_r118', 'priority': 17}}, {'extra_trees': True, 'feature_fraction': 0.7113010892989156, 'learning_rate': 0.012535427424259274, 'min_data_in_leaf': 16, 'num_leaves': 48, 'ag_args': {'name_suffix': '_r97', 'priority': 16}}, {'extra_trees': True, 'feature_fraction': 0.45555769907110816, 'learning_rate': 0.009591347321206594, 'min_data_in_leaf': 50, 'num_leaves': 110, 'ag_args': {'name_suffix': '_r71', 'priority': 15}}, {'extra_trees': False, 'feature_fraction': 0.40979710161022476, 'learning_rate': 0.008708890211023034, 'min_data_in_leaf': 3, 'num_leaves': 80, 'ag_args': {'name_suffix': '_r111', 'priority': 14}}],\n",
      "\t'FASTAI': [{'bs': 1024, 'emb_drop': 0.6167722379778131, 'epochs': 44, 'layers': [200, 100, 50], 'lr': 0.053440377855629266, 'ps': 0.48477211305443607, 'ag_args': {'name_suffix': '_r25', 'priority': 13}}, {'bs': 1024, 'emb_drop': 0.6046989241462619, 'epochs': 48, 'layers': [200, 100, 50], 'lr': 0.00775309042164966, 'ps': 0.09244767444160731, 'ag_args': {'name_suffix': '_r51', 'priority': 12}}, {'bs': 512, 'emb_drop': 0.6557225316526186, 'epochs': 49, 'layers': [200, 100], 'lr': 0.023627682025564638, 'ps': 0.519566584552178, 'ag_args': {'name_suffix': '_r82', 'priority': 11}}, {'bs': 2048, 'emb_drop': 0.4066210919034579, 'epochs': 43, 'layers': [400, 200], 'lr': 0.0029598312717673434, 'ps': 0.4378695797438974, 'ag_args': {'name_suffix': '_r121', 'priority': 10}}, {'bs': 128, 'emb_drop': 0.44339037504795686, 'epochs': 31, 'layers': [400, 200, 100], 'lr': 0.008615195908919904, 'ps': 0.19220253419114286, 'ag_args': {'name_suffix': '_r145', 'priority': 9}}, {'bs': 128, 'emb_drop': 0.12106594798980945, 'epochs': 38, 'layers': [200, 100, 50], 'lr': 0.037991970245029975, 'ps': 0.33120008492595093, 'ag_args': {'name_suffix': '_r173', 'priority': 8}}, {'bs': 128, 'emb_drop': 0.4599138419358, 'epochs': 47, 'layers': [200, 100], 'lr': 0.03888383281136287, 'ps': 0.28193673177122863, 'ag_args': {'name_suffix': '_r128', 'priority': 7}}],\n",
      "\t'CAT': [{'depth': 5, 'l2_leaf_reg': 4.774992314058497, 'learning_rate': 0.038551267822920274, 'ag_args': {'name_suffix': '_r16', 'priority': 6}}, {'depth': 4, 'l2_leaf_reg': 1.9950125740798321, 'learning_rate': 0.028091050379971633, 'ag_args': {'name_suffix': '_r42', 'priority': 5}}, {'depth': 6, 'l2_leaf_reg': 1.8298803017644376, 'learning_rate': 0.017844259810823604, 'ag_args': {'name_suffix': '_r93', 'priority': 4}}, {'depth': 7, 'l2_leaf_reg': 4.81099604606794, 'learning_rate': 0.019085060180573103, 'ag_args': {'name_suffix': '_r44', 'priority': 3}}],\n",
      "}\n",
      "Excluded models: [] (Specified by `excluded_model_types`)\n",
      "Fitting 19 L1 models ...\n",
      "Fitting model: TabPFN ... Training model for up to 19799.78s of the 19799.78s of remaining time.\n"
     ]
    },
    {
     "name": "stdout",
     "output_type": "stream",
     "text": [
      "We have to download the TabPFN, as there is no checkpoint at  /opt/conda/lib/python3.10/site-packages/tabpfn/models_diff/prior_diff_real_checkpoint_n_0_epoch_100.cpkt\n",
      "It has about 100MB, so this might take a moment.\n",
      "Loading model that can be used for inference only\n",
      "Using a Transformer with 25.82 M parameters\n"
     ]
    },
    {
     "name": "stderr",
     "output_type": "stream",
     "text": [
      "\t0.7032\t = Validation score   (roc_auc)\n",
      "\t1.38s\t = Training   runtime\n",
      "\t111.25s\t = Validation runtime\n",
      "Fitting model: ExtraTrees_r19 ... Training model for up to 19687.05s of the 19687.05s of remaining time.\n",
      "\t0.7014\t = Validation score   (roc_auc)\n",
      "\t4.18s\t = Training   runtime\n",
      "\t0.15s\t = Validation runtime\n",
      "Fitting model: RandomForest_r5 ... Training model for up to 19682.61s of the 19682.6s of remaining time.\n",
      "\t0.7033\t = Validation score   (roc_auc)\n",
      "\t18.5s\t = Training   runtime\n",
      "\t0.12s\t = Validation runtime\n",
      "Fitting model: LightGBM_r158 ... Training model for up to 19663.93s of the 19663.92s of remaining time.\n",
      "\t0.7011\t = Validation score   (roc_auc)\n",
      "\t3.28s\t = Training   runtime\n",
      "\t0.01s\t = Validation runtime\n",
      "Fitting model: LightGBM_r118 ... Training model for up to 19660.63s of the 19660.63s of remaining time.\n",
      "\t0.7049\t = Validation score   (roc_auc)\n",
      "\t1.82s\t = Training   runtime\n",
      "\t0.01s\t = Validation runtime\n",
      "Fitting model: LightGBM_r97 ... Training model for up to 19658.79s of the 19658.79s of remaining time.\n",
      "\t0.7057\t = Validation score   (roc_auc)\n",
      "\t3.08s\t = Training   runtime\n",
      "\t0.04s\t = Validation runtime\n",
      "Fitting model: LightGBM_r71 ... Training model for up to 19655.62s of the 19655.62s of remaining time.\n",
      "\t0.7058\t = Validation score   (roc_auc)\n",
      "\t4.2s\t = Training   runtime\n",
      "\t0.09s\t = Validation runtime\n",
      "Fitting model: LightGBM_r111 ... Training model for up to 19651.2s of the 19651.19s of remaining time.\n",
      "\t0.7092\t = Validation score   (roc_auc)\n",
      "\t3.88s\t = Training   runtime\n",
      "\t0.04s\t = Validation runtime\n",
      "Fitting model: NeuralNetFastAI_r25 ... Training model for up to 19647.19s of the 19647.19s of remaining time.\n",
      "\t0.7043\t = Validation score   (roc_auc)\n",
      "\t15.63s\t = Training   runtime\n",
      "\t0.02s\t = Validation runtime\n",
      "Fitting model: NeuralNetFastAI_r51 ... Training model for up to 19631.52s of the 19631.51s of remaining time.\n",
      "No improvement since epoch 9: early stopping\n",
      "\t0.6987\t = Validation score   (roc_auc)\n",
      "\t9.35s\t = Training   runtime\n",
      "\t0.03s\t = Validation runtime\n",
      "Fitting model: NeuralNetFastAI_r82 ... Training model for up to 19622.13s of the 19622.12s of remaining time.\n",
      "No improvement since epoch 26: early stopping\n",
      "\t0.7082\t = Validation score   (roc_auc)\n",
      "\t20.55s\t = Training   runtime\n",
      "\t0.02s\t = Validation runtime\n",
      "Fitting model: NeuralNetFastAI_r121 ... Training model for up to 19601.52s of the 19601.52s of remaining time.\n",
      "\t0.7021\t = Validation score   (roc_auc)\n",
      "\t18.1s\t = Training   runtime\n",
      "\t0.02s\t = Validation runtime\n",
      "Fitting model: NeuralNetFastAI_r145 ... Training model for up to 19583.39s of the 19583.38s of remaining time.\n",
      "\t0.706\t = Validation score   (roc_auc)\n",
      "\t47.05s\t = Training   runtime\n",
      "\t0.06s\t = Validation runtime\n",
      "Fitting model: NeuralNetFastAI_r173 ... Training model for up to 19536.24s of the 19536.23s of remaining time.\n",
      "\t0.7081\t = Validation score   (roc_auc)\n",
      "\t46.32s\t = Training   runtime\n",
      "\t0.05s\t = Validation runtime\n",
      "Fitting model: NeuralNetFastAI_r128 ... Training model for up to 19489.82s of the 19489.81s of remaining time.\n",
      "\t0.707\t = Validation score   (roc_auc)\n",
      "\t52.08s\t = Training   runtime\n",
      "\t0.05s\t = Validation runtime\n",
      "Fitting model: CatBoost_r16 ... Training model for up to 19437.63s of the 19437.62s of remaining time.\n",
      "<frozen importlib._bootstrap>:241: RuntimeWarning: numpy.ufunc size changed, may indicate binary incompatibility. Expected 216 from C header, got 232 from PyObject\n",
      "\t0.7071\t = Validation score   (roc_auc)\n",
      "\t3.56s\t = Training   runtime\n",
      "\t0.01s\t = Validation runtime\n",
      "Fitting model: CatBoost_r42 ... Training model for up to 19434.06s of the 19434.05s of remaining time.\n",
      "\t0.7067\t = Validation score   (roc_auc)\n",
      "\t3.36s\t = Training   runtime\n",
      "\t0.0s\t = Validation runtime\n",
      "Fitting model: CatBoost_r93 ... Training model for up to 19430.69s of the 19430.68s of remaining time.\n",
      "\t0.7082\t = Validation score   (roc_auc)\n",
      "\t5.34s\t = Training   runtime\n",
      "\t0.0s\t = Validation runtime\n",
      "Fitting model: CatBoost_r44 ... Training model for up to 19425.34s of the 19425.33s of remaining time.\n",
      "\t0.709\t = Validation score   (roc_auc)\n",
      "\t10.83s\t = Training   runtime\n",
      "\t0.0s\t = Validation runtime\n",
      "Fitting model: WeightedEnsemble_L2 ... Training model for up to 1979.98s of the 19414.48s of remaining time.\n",
      "\t0.7136\t = Validation score   (roc_auc)\n",
      "\t0.74s\t = Training   runtime\n",
      "\t0.0s\t = Validation runtime\n",
      "AutoGluon training complete, total runtime = 386.32s ... Best model: \"WeightedEnsemble_L2\"\n",
      "TabularPredictor saved. To load, use: predictor = TabularPredictor.load(\"AutogluonModels/ag-20230701_172539/Predictor_EC1/\")\n",
      "Presets specified: ['medium_quality']\n",
      "Beginning AutoGluon training ... Time limit = 19800s\n",
      "AutoGluon will save models to \"AutogluonModels/ag-20230701_172539/Predictor_EC2/\"\n",
      "AutoGluon Version:  0.8.2\n",
      "Python Version:     3.10.10\n",
      "Operating System:   Linux\n",
      "Platform Machine:   x86_64\n",
      "Platform Version:   #1 SMP Tue Jun 27 10:54:51 UTC 2023\n",
      "Disk Space Avail:   20.65 GB / 20.96 GB (98.5%)\n",
      "Train Data Rows:    15838\n",
      "Train Data Columns: 44\n",
      "Label Column: EC2\n",
      "Preprocessing data ...\n",
      "Selected class <--> label mapping:  class 1 = 1, class 0 = 0\n",
      "Using Feature Generators to preprocess the data ...\n",
      "Fitting AutoMLPipelineFeatureGenerator...\n",
      "\tAvailable Memory:                    31955.68 MB\n",
      "\tTrain Data (Original)  Memory Usage: 5.13 MB (0.0% of available memory)\n",
      "\tInferring data type of each feature based on column values. Set feature_metadata_in to manually specify special dtypes of the features.\n",
      "\tStage 1 Generators:\n",
      "\t\tFitting AsTypeFeatureGenerator...\n",
      "\t\t\tNote: Converting 1 features to boolean dtype as they only contain 2 unique values.\n",
      "\tStage 2 Generators:\n",
      "\t\tFitting FillNaFeatureGenerator...\n",
      "\tStage 3 Generators:\n",
      "\t\tFitting IdentityFeatureGenerator...\n",
      "\tStage 4 Generators:\n",
      "\t\tFitting DropUniqueFeatureGenerator...\n",
      "\tStage 5 Generators:\n",
      "\t\tFitting DropDuplicatesFeatureGenerator...\n",
      "\tTypes of features in original data (raw dtype, special dtypes):\n"
     ]
    },
    {
     "name": "stdout",
     "output_type": "stream",
     "text": [
      "Fitting TabularPredictor for label: EC2 ...\n"
     ]
    },
    {
     "name": "stderr",
     "output_type": "stream",
     "text": [
      "\t\t('float', []) : 40 | ['BertzCT', 'Chi1', 'Chi1n', 'Chi1v', 'Chi2n', ...]\n",
      "\t\t('int', [])   :  4 | ['NumHeteroatoms', 'fr_COO', 'fr_COO2', 'EC1']\n",
      "\tTypes of features in processed data (raw dtype, special dtypes):\n",
      "\t\t('float', [])     : 40 | ['BertzCT', 'Chi1', 'Chi1n', 'Chi1v', 'Chi2n', ...]\n",
      "\t\t('int', [])       :  3 | ['NumHeteroatoms', 'fr_COO', 'fr_COO2']\n",
      "\t\t('int', ['bool']) :  1 | ['EC1']\n",
      "\t0.2s = Fit runtime\n",
      "\t44 features in original data used to generate 44 features in processed data.\n",
      "\tTrain Data (Processed) Memory Usage: 5.13 MB (0.0% of available memory)\n",
      "Data preprocessing and feature engineering runtime = 0.2s ...\n",
      "AutoGluon will gauge predictive performance using evaluation metric: 'roc_auc'\n",
      "\tThis metric expects predicted probabilities rather than predicted class labels, so you'll need to use predict_proba() instead of predict()\n",
      "\tTo change this, specify the eval_metric parameter of Predictor()\n",
      "Automatically generating train/validation split with holdout_frac=0.1, Train Rows: 14254, Val Rows: 1584\n",
      "User-specified model hyperparameters to be fit:\n",
      "{\n",
      "\t'TABPFN': [{'N_ensemble_configurations': 5}],\n",
      "\t'XT': [{'min_samples_leaf': 1, 'max_leaf_nodes': 15000, 'max_features': 0.5, 'ag_args': {'name_suffix': '_r19', 'priority': 20}}],\n",
      "\t'RF': [{'min_samples_leaf': 5, 'max_leaf_nodes': 50000, 'max_features': 0.5, 'ag_args': {'name_suffix': '_r5', 'priority': 19}}],\n",
      "\t'GBM': [{'extra_trees': False, 'feature_fraction': 0.7248284762542815, 'learning_rate': 0.07947286942946127, 'min_data_in_leaf': 50, 'num_leaves': 89, 'ag_args': {'name_suffix': '_r158', 'priority': 18}}, {'extra_trees': True, 'feature_fraction': 0.7832570544199176, 'learning_rate': 0.021720607471727896, 'min_data_in_leaf': 3, 'num_leaves': 21, 'ag_args': {'name_suffix': '_r118', 'priority': 17}}, {'extra_trees': True, 'feature_fraction': 0.7113010892989156, 'learning_rate': 0.012535427424259274, 'min_data_in_leaf': 16, 'num_leaves': 48, 'ag_args': {'name_suffix': '_r97', 'priority': 16}}, {'extra_trees': True, 'feature_fraction': 0.45555769907110816, 'learning_rate': 0.009591347321206594, 'min_data_in_leaf': 50, 'num_leaves': 110, 'ag_args': {'name_suffix': '_r71', 'priority': 15}}, {'extra_trees': False, 'feature_fraction': 0.40979710161022476, 'learning_rate': 0.008708890211023034, 'min_data_in_leaf': 3, 'num_leaves': 80, 'ag_args': {'name_suffix': '_r111', 'priority': 14}}],\n",
      "\t'FASTAI': [{'bs': 1024, 'emb_drop': 0.6167722379778131, 'epochs': 44, 'layers': [200, 100, 50], 'lr': 0.053440377855629266, 'ps': 0.48477211305443607, 'ag_args': {'name_suffix': '_r25', 'priority': 13}}, {'bs': 1024, 'emb_drop': 0.6046989241462619, 'epochs': 48, 'layers': [200, 100, 50], 'lr': 0.00775309042164966, 'ps': 0.09244767444160731, 'ag_args': {'name_suffix': '_r51', 'priority': 12}}, {'bs': 512, 'emb_drop': 0.6557225316526186, 'epochs': 49, 'layers': [200, 100], 'lr': 0.023627682025564638, 'ps': 0.519566584552178, 'ag_args': {'name_suffix': '_r82', 'priority': 11}}, {'bs': 2048, 'emb_drop': 0.4066210919034579, 'epochs': 43, 'layers': [400, 200], 'lr': 0.0029598312717673434, 'ps': 0.4378695797438974, 'ag_args': {'name_suffix': '_r121', 'priority': 10}}, {'bs': 128, 'emb_drop': 0.44339037504795686, 'epochs': 31, 'layers': [400, 200, 100], 'lr': 0.008615195908919904, 'ps': 0.19220253419114286, 'ag_args': {'name_suffix': '_r145', 'priority': 9}}, {'bs': 128, 'emb_drop': 0.12106594798980945, 'epochs': 38, 'layers': [200, 100, 50], 'lr': 0.037991970245029975, 'ps': 0.33120008492595093, 'ag_args': {'name_suffix': '_r173', 'priority': 8}}, {'bs': 128, 'emb_drop': 0.4599138419358, 'epochs': 47, 'layers': [200, 100], 'lr': 0.03888383281136287, 'ps': 0.28193673177122863, 'ag_args': {'name_suffix': '_r128', 'priority': 7}}],\n",
      "\t'CAT': [{'depth': 5, 'l2_leaf_reg': 4.774992314058497, 'learning_rate': 0.038551267822920274, 'ag_args': {'name_suffix': '_r16', 'priority': 6}}, {'depth': 4, 'l2_leaf_reg': 1.9950125740798321, 'learning_rate': 0.028091050379971633, 'ag_args': {'name_suffix': '_r42', 'priority': 5}}, {'depth': 6, 'l2_leaf_reg': 1.8298803017644376, 'learning_rate': 0.017844259810823604, 'ag_args': {'name_suffix': '_r93', 'priority': 4}}, {'depth': 7, 'l2_leaf_reg': 4.81099604606794, 'learning_rate': 0.019085060180573103, 'ag_args': {'name_suffix': '_r44', 'priority': 3}}],\n",
      "}\n",
      "Excluded models: [] (Specified by `excluded_model_types`)\n",
      "Fitting 19 L1 models ...\n",
      "Fitting model: TabPFN ... Training model for up to 19799.8s of the 19799.79s of remaining time.\n"
     ]
    },
    {
     "name": "stdout",
     "output_type": "stream",
     "text": [
      "Loading model that can be used for inference only\n",
      "Using a Transformer with 25.82 M parameters\n"
     ]
    },
    {
     "name": "stderr",
     "output_type": "stream",
     "text": [
      "\t0.5884\t = Validation score   (roc_auc)\n",
      "\t0.38s\t = Training   runtime\n",
      "\t110.24s\t = Validation runtime\n",
      "Fitting model: ExtraTrees_r19 ... Training model for up to 19689.08s of the 19689.07s of remaining time.\n",
      "\t0.584\t = Validation score   (roc_auc)\n",
      "\t3.96s\t = Training   runtime\n",
      "\t0.13s\t = Validation runtime\n",
      "Fitting model: RandomForest_r5 ... Training model for up to 19684.89s of the 19684.89s of remaining time.\n",
      "\t0.5794\t = Validation score   (roc_auc)\n",
      "\t20.13s\t = Training   runtime\n",
      "\t0.12s\t = Validation runtime\n",
      "Fitting model: LightGBM_r158 ... Training model for up to 19664.59s of the 19664.59s of remaining time.\n",
      "\t0.5945\t = Validation score   (roc_auc)\n",
      "\t2.01s\t = Training   runtime\n",
      "\t0.0s\t = Validation runtime\n",
      "Fitting model: LightGBM_r118 ... Training model for up to 19662.58s of the 19662.57s of remaining time.\n",
      "\t0.598\t = Validation score   (roc_auc)\n",
      "\t1.37s\t = Training   runtime\n",
      "\t0.01s\t = Validation runtime\n",
      "Fitting model: LightGBM_r97 ... Training model for up to 19661.19s of the 19661.19s of remaining time.\n",
      "\t0.5975\t = Validation score   (roc_auc)\n",
      "\t1.94s\t = Training   runtime\n",
      "\t0.01s\t = Validation runtime\n",
      "Fitting model: LightGBM_r71 ... Training model for up to 19659.22s of the 19659.22s of remaining time.\n",
      "\t0.5998\t = Validation score   (roc_auc)\n",
      "\t2.16s\t = Training   runtime\n",
      "\t0.03s\t = Validation runtime\n",
      "Fitting model: LightGBM_r111 ... Training model for up to 19656.98s of the 19656.98s of remaining time.\n",
      "\t0.5964\t = Validation score   (roc_auc)\n",
      "\t2.31s\t = Training   runtime\n",
      "\t0.01s\t = Validation runtime\n",
      "Fitting model: NeuralNetFastAI_r25 ... Training model for up to 19654.62s of the 19654.61s of remaining time.\n",
      "No improvement since epoch 11: early stopping\n",
      "\t0.5974\t = Validation score   (roc_auc)\n",
      "\t10.63s\t = Training   runtime\n",
      "\t0.02s\t = Validation runtime\n",
      "Fitting model: NeuralNetFastAI_r51 ... Training model for up to 19643.95s of the 19643.95s of remaining time.\n",
      "No improvement since epoch 0: early stopping\n",
      "\t0.5581\t = Validation score   (roc_auc)\n",
      "\t6.45s\t = Training   runtime\n",
      "\t0.02s\t = Validation runtime\n",
      "Fitting model: NeuralNetFastAI_r82 ... Training model for up to 19637.46s of the 19637.46s of remaining time.\n",
      "No improvement since epoch 1: early stopping\n",
      "\t0.5943\t = Validation score   (roc_auc)\n",
      "\t12.09s\t = Training   runtime\n",
      "\t0.07s\t = Validation runtime\n",
      "Fitting model: NeuralNetFastAI_r121 ... Training model for up to 19625.26s of the 19625.25s of remaining time.\n",
      "No improvement since epoch 8: early stopping\n",
      "\t0.5967\t = Validation score   (roc_auc)\n",
      "\t14.96s\t = Training   runtime\n",
      "\t0.02s\t = Validation runtime\n",
      "Fitting model: NeuralNetFastAI_r145 ... Training model for up to 19610.26s of the 19610.26s of remaining time.\n",
      "\t0.5955\t = Validation score   (roc_auc)\n",
      "\t44.31s\t = Training   runtime\n",
      "\t0.05s\t = Validation runtime\n",
      "Fitting model: NeuralNetFastAI_r173 ... Training model for up to 19565.86s of the 19565.85s of remaining time.\n",
      "No improvement since epoch 5: early stopping\n",
      "\t0.5932\t = Validation score   (roc_auc)\n",
      "\t29.67s\t = Training   runtime\n",
      "\t0.04s\t = Validation runtime\n",
      "Fitting model: NeuralNetFastAI_r128 ... Training model for up to 19536.1s of the 19536.1s of remaining time.\n",
      "No improvement since epoch 20: early stopping\n",
      "\t0.5961\t = Validation score   (roc_auc)\n",
      "\t41.91s\t = Training   runtime\n",
      "\t0.05s\t = Validation runtime\n",
      "Fitting model: CatBoost_r16 ... Training model for up to 19494.09s of the 19494.08s of remaining time.\n",
      "\t0.6079\t = Validation score   (roc_auc)\n",
      "\t3.8s\t = Training   runtime\n",
      "\t0.0s\t = Validation runtime\n",
      "Fitting model: CatBoost_r42 ... Training model for up to 19490.28s of the 19490.28s of remaining time.\n",
      "\t0.6131\t = Validation score   (roc_auc)\n",
      "\t5.71s\t = Training   runtime\n",
      "\t0.0s\t = Validation runtime\n",
      "Fitting model: CatBoost_r93 ... Training model for up to 19484.56s of the 19484.55s of remaining time.\n",
      "\t0.6059\t = Validation score   (roc_auc)\n",
      "\t6.47s\t = Training   runtime\n",
      "\t0.0s\t = Validation runtime\n",
      "Fitting model: CatBoost_r44 ... Training model for up to 19478.07s of the 19478.07s of remaining time.\n",
      "\t0.6052\t = Validation score   (roc_auc)\n",
      "\t6.98s\t = Training   runtime\n",
      "\t0.0s\t = Validation runtime\n",
      "Fitting model: WeightedEnsemble_L2 ... Training model for up to 1979.98s of the 19471.07s of remaining time.\n",
      "\t0.615\t = Validation score   (roc_auc)\n",
      "\t0.72s\t = Training   runtime\n",
      "\t0.0s\t = Validation runtime\n",
      "AutoGluon training complete, total runtime = 329.69s ... Best model: \"WeightedEnsemble_L2\"\n",
      "TabularPredictor saved. To load, use: predictor = TabularPredictor.load(\"AutogluonModels/ag-20230701_172539/Predictor_EC2/\")\n"
     ]
    },
    {
     "name": "stdout",
     "output_type": "stream",
     "text": [
      "MultilabelPredictor saved to disk. Load with: MultilabelPredictor.load('AutogluonModels/ag-20230701_172539/')\n"
     ]
    }
   ],
   "source": [
    "excluded_model_types = ['KNN', 'NN_TORCH']\n",
    "labels = ['EC1','EC2']\n",
    "problem_types = ['binary','binary']\n",
    "eval_metrics = ['roc_auc','roc_auc']\n",
    "multi_predictor = MultilabelPredictor(labels=labels,problem_types=problem_types,sample_weight='auto_weight', eval_metrics=eval_metrics)\n",
    "# multi_predictor.fit(train, presets=\"experimental_zeroshot_hpo_hybrid\",fit_weighted_ensemble = True,excluded_model_types=excluded_model_types,time_limit=3600*6)\n",
    "multi_predictor.fit(train,presets=\"medium_quality\",fit_weighted_ensemble = True,excluded_model_types=excluded_model_types,time_limit=3600*11//2)"
   ]
  },
  {
   "cell_type": "code",
   "execution_count": 21,
   "id": "947758e9",
   "metadata": {
    "execution": {
     "iopub.execute_input": "2023-07-01T17:37:35.329890Z",
     "iopub.status.busy": "2023-07-01T17:37:35.329218Z",
     "iopub.status.idle": "2023-07-01T17:37:35.332794Z",
     "shell.execute_reply": "2023-07-01T17:37:35.332133Z"
    },
    "papermill": {
     "duration": 0.070163,
     "end_time": "2023-07-01T17:37:35.335183",
     "exception": false,
     "start_time": "2023-07-01T17:37:35.265020",
     "status": "completed"
    },
    "tags": []
   },
   "outputs": [],
   "source": [
    "# predictions = multi_predictor.predict(test)\n",
    "# predictions"
   ]
  },
  {
   "cell_type": "code",
   "execution_count": 22,
   "id": "0db508dd",
   "metadata": {
    "execution": {
     "iopub.execute_input": "2023-07-01T17:37:35.464417Z",
     "iopub.status.busy": "2023-07-01T17:37:35.463929Z",
     "iopub.status.idle": "2023-07-01T17:46:22.570249Z",
     "shell.execute_reply": "2023-07-01T17:46:22.569154Z"
    },
    "papermill": {
     "duration": 527.174866,
     "end_time": "2023-07-01T17:46:22.573096",
     "exception": false,
     "start_time": "2023-07-01T17:37:35.398230",
     "status": "completed"
    },
    "tags": []
   },
   "outputs": [
    {
     "name": "stdout",
     "output_type": "stream",
     "text": [
      "Predicting with TabularPredictor for label: EC1 ...\n",
      "Predicting with TabularPredictor for label: EC2 ...\n"
     ]
    },
    {
     "data": {
      "text/plain": [
       "{'EC1':              0         1\n",
       " 0     0.557540  0.442460\n",
       " 1     0.166710  0.833290\n",
       " 2     0.186449  0.813551\n",
       " 3     0.238448  0.761552\n",
       " 4     0.217842  0.782158\n",
       " ...        ...       ...\n",
       " 9888  0.345867  0.654133\n",
       " 9889  0.192115  0.807885\n",
       " 9890  0.572234  0.427766\n",
       " 9891  0.587113  0.412887\n",
       " 9892  0.607863  0.392137\n",
       " \n",
       " [9893 rows x 2 columns],\n",
       " 'EC2':              0         1\n",
       " 0     0.168128  0.831872\n",
       " 1     0.191080  0.808920\n",
       " 2     0.309135  0.690865\n",
       " 3     0.213945  0.786055\n",
       " 4     0.250198  0.749802\n",
       " ...        ...       ...\n",
       " 9888  0.276820  0.723180\n",
       " 9889  0.175779  0.824221\n",
       " 9890  0.128513  0.871487\n",
       " 9891  0.121401  0.878599\n",
       " 9892  0.112136  0.887864\n",
       " \n",
       " [9893 rows x 2 columns]}"
      ]
     },
     "execution_count": 22,
     "metadata": {},
     "output_type": "execute_result"
    }
   ],
   "source": [
    "prediction_prob = multi_predictor.predict_proba(test)\n",
    "prediction_prob"
   ]
  },
  {
   "cell_type": "code",
   "execution_count": 23,
   "id": "ad633943",
   "metadata": {
    "execution": {
     "iopub.execute_input": "2023-07-01T17:46:22.708320Z",
     "iopub.status.busy": "2023-07-01T17:46:22.707978Z",
     "iopub.status.idle": "2023-07-01T17:46:22.727434Z",
     "shell.execute_reply": "2023-07-01T17:46:22.726510Z"
    },
    "papermill": {
     "duration": 0.086878,
     "end_time": "2023-07-01T17:46:22.729559",
     "exception": false,
     "start_time": "2023-07-01T17:46:22.642681",
     "status": "completed"
    },
    "tags": []
   },
   "outputs": [
    {
     "data": {
      "text/html": [
       "<div>\n",
       "<style scoped>\n",
       "    .dataframe tbody tr th:only-of-type {\n",
       "        vertical-align: middle;\n",
       "    }\n",
       "\n",
       "    .dataframe tbody tr th {\n",
       "        vertical-align: top;\n",
       "    }\n",
       "\n",
       "    .dataframe thead th {\n",
       "        text-align: right;\n",
       "    }\n",
       "</style>\n",
       "<table border=\"1\" class=\"dataframe\">\n",
       "  <thead>\n",
       "    <tr style=\"text-align: right;\">\n",
       "      <th></th>\n",
       "      <th>id</th>\n",
       "      <th>EC1</th>\n",
       "      <th>EC2</th>\n",
       "    </tr>\n",
       "  </thead>\n",
       "  <tbody>\n",
       "    <tr>\n",
       "      <th>0</th>\n",
       "      <td>14838</td>\n",
       "      <td>0.5</td>\n",
       "      <td>0.5</td>\n",
       "    </tr>\n",
       "    <tr>\n",
       "      <th>1</th>\n",
       "      <td>14839</td>\n",
       "      <td>0.5</td>\n",
       "      <td>0.5</td>\n",
       "    </tr>\n",
       "    <tr>\n",
       "      <th>2</th>\n",
       "      <td>14840</td>\n",
       "      <td>0.5</td>\n",
       "      <td>0.5</td>\n",
       "    </tr>\n",
       "    <tr>\n",
       "      <th>3</th>\n",
       "      <td>14841</td>\n",
       "      <td>0.5</td>\n",
       "      <td>0.5</td>\n",
       "    </tr>\n",
       "    <tr>\n",
       "      <th>4</th>\n",
       "      <td>14842</td>\n",
       "      <td>0.5</td>\n",
       "      <td>0.5</td>\n",
       "    </tr>\n",
       "    <tr>\n",
       "      <th>...</th>\n",
       "      <td>...</td>\n",
       "      <td>...</td>\n",
       "      <td>...</td>\n",
       "    </tr>\n",
       "    <tr>\n",
       "      <th>9888</th>\n",
       "      <td>24726</td>\n",
       "      <td>0.5</td>\n",
       "      <td>0.5</td>\n",
       "    </tr>\n",
       "    <tr>\n",
       "      <th>9889</th>\n",
       "      <td>24727</td>\n",
       "      <td>0.5</td>\n",
       "      <td>0.5</td>\n",
       "    </tr>\n",
       "    <tr>\n",
       "      <th>9890</th>\n",
       "      <td>24728</td>\n",
       "      <td>0.5</td>\n",
       "      <td>0.5</td>\n",
       "    </tr>\n",
       "    <tr>\n",
       "      <th>9891</th>\n",
       "      <td>24729</td>\n",
       "      <td>0.5</td>\n",
       "      <td>0.5</td>\n",
       "    </tr>\n",
       "    <tr>\n",
       "      <th>9892</th>\n",
       "      <td>24730</td>\n",
       "      <td>0.5</td>\n",
       "      <td>0.5</td>\n",
       "    </tr>\n",
       "  </tbody>\n",
       "</table>\n",
       "<p>9893 rows × 3 columns</p>\n",
       "</div>"
      ],
      "text/plain": [
       "         id  EC1  EC2\n",
       "0     14838  0.5  0.5\n",
       "1     14839  0.5  0.5\n",
       "2     14840  0.5  0.5\n",
       "3     14841  0.5  0.5\n",
       "4     14842  0.5  0.5\n",
       "...     ...  ...  ...\n",
       "9888  24726  0.5  0.5\n",
       "9889  24727  0.5  0.5\n",
       "9890  24728  0.5  0.5\n",
       "9891  24729  0.5  0.5\n",
       "9892  24730  0.5  0.5\n",
       "\n",
       "[9893 rows x 3 columns]"
      ]
     },
     "execution_count": 23,
     "metadata": {},
     "output_type": "execute_result"
    }
   ],
   "source": [
    "submission"
   ]
  },
  {
   "cell_type": "code",
   "execution_count": 24,
   "id": "d0e8e7d2",
   "metadata": {
    "execution": {
     "iopub.execute_input": "2023-07-01T17:46:22.859958Z",
     "iopub.status.busy": "2023-07-01T17:46:22.859072Z",
     "iopub.status.idle": "2023-07-01T17:46:22.864406Z",
     "shell.execute_reply": "2023-07-01T17:46:22.863352Z"
    },
    "papermill": {
     "duration": 0.071856,
     "end_time": "2023-07-01T17:46:22.866519",
     "exception": false,
     "start_time": "2023-07-01T17:46:22.794663",
     "status": "completed"
    },
    "tags": []
   },
   "outputs": [],
   "source": [
    "submission['EC1']=prediction_prob['EC1'][1]\n",
    "submission['EC2']=prediction_prob['EC2'][1]"
   ]
  },
  {
   "cell_type": "code",
   "execution_count": 25,
   "id": "9251bc98",
   "metadata": {
    "execution": {
     "iopub.execute_input": "2023-07-01T17:46:22.994106Z",
     "iopub.status.busy": "2023-07-01T17:46:22.993488Z",
     "iopub.status.idle": "2023-07-01T17:46:23.007771Z",
     "shell.execute_reply": "2023-07-01T17:46:23.006785Z"
    },
    "papermill": {
     "duration": 0.081147,
     "end_time": "2023-07-01T17:46:23.009948",
     "exception": false,
     "start_time": "2023-07-01T17:46:22.928801",
     "status": "completed"
    },
    "tags": []
   },
   "outputs": [
    {
     "data": {
      "text/html": [
       "<div>\n",
       "<style scoped>\n",
       "    .dataframe tbody tr th:only-of-type {\n",
       "        vertical-align: middle;\n",
       "    }\n",
       "\n",
       "    .dataframe tbody tr th {\n",
       "        vertical-align: top;\n",
       "    }\n",
       "\n",
       "    .dataframe thead th {\n",
       "        text-align: right;\n",
       "    }\n",
       "</style>\n",
       "<table border=\"1\" class=\"dataframe\">\n",
       "  <thead>\n",
       "    <tr style=\"text-align: right;\">\n",
       "      <th></th>\n",
       "      <th>id</th>\n",
       "      <th>EC1</th>\n",
       "      <th>EC2</th>\n",
       "    </tr>\n",
       "  </thead>\n",
       "  <tbody>\n",
       "    <tr>\n",
       "      <th>0</th>\n",
       "      <td>14838</td>\n",
       "      <td>0.442460</td>\n",
       "      <td>0.831872</td>\n",
       "    </tr>\n",
       "    <tr>\n",
       "      <th>1</th>\n",
       "      <td>14839</td>\n",
       "      <td>0.833290</td>\n",
       "      <td>0.808920</td>\n",
       "    </tr>\n",
       "    <tr>\n",
       "      <th>2</th>\n",
       "      <td>14840</td>\n",
       "      <td>0.813551</td>\n",
       "      <td>0.690865</td>\n",
       "    </tr>\n",
       "    <tr>\n",
       "      <th>3</th>\n",
       "      <td>14841</td>\n",
       "      <td>0.761552</td>\n",
       "      <td>0.786055</td>\n",
       "    </tr>\n",
       "    <tr>\n",
       "      <th>4</th>\n",
       "      <td>14842</td>\n",
       "      <td>0.782158</td>\n",
       "      <td>0.749802</td>\n",
       "    </tr>\n",
       "    <tr>\n",
       "      <th>...</th>\n",
       "      <td>...</td>\n",
       "      <td>...</td>\n",
       "      <td>...</td>\n",
       "    </tr>\n",
       "    <tr>\n",
       "      <th>9888</th>\n",
       "      <td>24726</td>\n",
       "      <td>0.654133</td>\n",
       "      <td>0.723180</td>\n",
       "    </tr>\n",
       "    <tr>\n",
       "      <th>9889</th>\n",
       "      <td>24727</td>\n",
       "      <td>0.807885</td>\n",
       "      <td>0.824221</td>\n",
       "    </tr>\n",
       "    <tr>\n",
       "      <th>9890</th>\n",
       "      <td>24728</td>\n",
       "      <td>0.427766</td>\n",
       "      <td>0.871487</td>\n",
       "    </tr>\n",
       "    <tr>\n",
       "      <th>9891</th>\n",
       "      <td>24729</td>\n",
       "      <td>0.412887</td>\n",
       "      <td>0.878599</td>\n",
       "    </tr>\n",
       "    <tr>\n",
       "      <th>9892</th>\n",
       "      <td>24730</td>\n",
       "      <td>0.392137</td>\n",
       "      <td>0.887864</td>\n",
       "    </tr>\n",
       "  </tbody>\n",
       "</table>\n",
       "<p>9893 rows × 3 columns</p>\n",
       "</div>"
      ],
      "text/plain": [
       "         id       EC1       EC2\n",
       "0     14838  0.442460  0.831872\n",
       "1     14839  0.833290  0.808920\n",
       "2     14840  0.813551  0.690865\n",
       "3     14841  0.761552  0.786055\n",
       "4     14842  0.782158  0.749802\n",
       "...     ...       ...       ...\n",
       "9888  24726  0.654133  0.723180\n",
       "9889  24727  0.807885  0.824221\n",
       "9890  24728  0.427766  0.871487\n",
       "9891  24729  0.412887  0.878599\n",
       "9892  24730  0.392137  0.887864\n",
       "\n",
       "[9893 rows x 3 columns]"
      ]
     },
     "execution_count": 25,
     "metadata": {},
     "output_type": "execute_result"
    }
   ],
   "source": [
    "submission"
   ]
  },
  {
   "cell_type": "code",
   "execution_count": 26,
   "id": "bcabab6c",
   "metadata": {
    "execution": {
     "iopub.execute_input": "2023-07-01T17:46:23.141357Z",
     "iopub.status.busy": "2023-07-01T17:46:23.140969Z",
     "iopub.status.idle": "2023-07-01T17:46:23.543876Z",
     "shell.execute_reply": "2023-07-01T17:46:23.541994Z"
    },
    "papermill": {
     "duration": 0.471891,
     "end_time": "2023-07-01T17:46:23.546362",
     "exception": false,
     "start_time": "2023-07-01T17:46:23.074471",
     "status": "completed"
    },
    "tags": []
   },
   "outputs": [],
   "source": [
    "!rm -rf /kaggle/working/*"
   ]
  },
  {
   "cell_type": "code",
   "execution_count": 27,
   "id": "e48fc407",
   "metadata": {
    "execution": {
     "iopub.execute_input": "2023-07-01T17:46:23.674826Z",
     "iopub.status.busy": "2023-07-01T17:46:23.674382Z",
     "iopub.status.idle": "2023-07-01T17:46:23.716832Z",
     "shell.execute_reply": "2023-07-01T17:46:23.715582Z"
    },
    "papermill": {
     "duration": 0.110181,
     "end_time": "2023-07-01T17:46:23.719334",
     "exception": false,
     "start_time": "2023-07-01T17:46:23.609153",
     "status": "completed"
    },
    "tags": []
   },
   "outputs": [],
   "source": [
    "submission.to_csv('/kaggle/working/submission111.csv', index=False)"
   ]
  },
  {
   "cell_type": "code",
   "execution_count": null,
   "id": "07abec1f",
   "metadata": {
    "papermill": {
     "duration": 0.06491,
     "end_time": "2023-07-01T17:46:23.851974",
     "exception": false,
     "start_time": "2023-07-01T17:46:23.787064",
     "status": "completed"
    },
    "tags": []
   },
   "outputs": [],
   "source": []
  }
 ],
 "metadata": {
  "kernelspec": {
   "display_name": "Python 3",
   "language": "python",
   "name": "python3"
  },
  "language_info": {
   "codemirror_mode": {
    "name": "ipython",
    "version": 3
   },
   "file_extension": ".py",
   "mimetype": "text/x-python",
   "name": "python",
   "nbconvert_exporter": "python",
   "pygments_lexer": "ipython3",
   "version": "3.10.10"
  },
  "papermill": {
   "default_parameters": {},
   "duration": 1395.081998,
   "end_time": "2023-07-01T17:46:26.740432",
   "environment_variables": {},
   "exception": null,
   "input_path": "__notebook__.ipynb",
   "output_path": "__notebook__.ipynb",
   "parameters": {},
   "start_time": "2023-07-01T17:23:11.658434",
   "version": "2.4.0"
  }
 },
 "nbformat": 4,
 "nbformat_minor": 5
}
